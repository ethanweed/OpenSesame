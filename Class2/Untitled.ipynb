{
 "cells": [
  {
   "cell_type": "code",
   "execution_count": 35,
   "id": "2fab73f4",
   "metadata": {},
   "outputs": [],
   "source": [
    "import pandas as pd"
   ]
  },
  {
   "cell_type": "code",
   "execution_count": 62,
   "id": "ad7cf3c5",
   "metadata": {},
   "outputs": [],
   "source": [
    "df = pd.read_csv('/Users/ethan/Documents/GitHub/OpenSesame/Class2/stims1.csv')"
   ]
  },
  {
   "cell_type": "code",
   "execution_count": 63,
   "id": "ae134267",
   "metadata": {},
   "outputs": [],
   "source": [
    "manmade = df.loc[df['Category'] == 'manmade']\n",
    "natural = df.loc[df['Category'] == 'natural']"
   ]
  },
  {
   "cell_type": "code",
   "execution_count": 64,
   "id": "325b0e0a",
   "metadata": {},
   "outputs": [
    {
     "data": {
      "text/plain": [
       "(40, 6)"
      ]
     },
     "execution_count": 64,
     "metadata": {},
     "output_type": "execute_result"
    }
   ],
   "source": [
    "natural.shape"
   ]
  },
  {
   "cell_type": "code",
   "execution_count": 65,
   "id": "3b4ae03f",
   "metadata": {},
   "outputs": [
    {
     "data": {
      "text/plain": [
       "(40, 6)"
      ]
     },
     "execution_count": 65,
     "metadata": {},
     "output_type": "execute_result"
    }
   ],
   "source": [
    "manmade.shape"
   ]
  },
  {
   "cell_type": "code",
   "execution_count": 66,
   "id": "7df22462",
   "metadata": {},
   "outputs": [],
   "source": [
    "manmade_unr = manmade.loc[manmade['Mod_level'] == 'unrelated']\n",
    "manmade_exa = manmade.loc[manmade['Mod_level'] == 'exact']\n",
    "manmade_one = manmade.loc[manmade['Mod_level'] == 'one_modification']\n",
    "manmade_two = manmade.loc[manmade['Mod_level'] == 'two_modifications']"
   ]
  },
  {
   "cell_type": "code",
   "execution_count": 55,
   "id": "d52ffc12",
   "metadata": {},
   "outputs": [],
   "source": [
    "manmade_unr1 = manmade_unr.iloc[::4, :]\n",
    "manmade_unr2 = manmade_unr.iloc[1::4, :]\n",
    "manmade_unr3 = manmade_unr.iloc[2::4, :]\n",
    "manmade_unr4 = manmade_unr.iloc[3::4, :]"
   ]
  },
  {
   "cell_type": "code",
   "execution_count": 56,
   "id": "049b17f0",
   "metadata": {},
   "outputs": [
    {
     "data": {
      "text/html": [
       "<div>\n",
       "<style scoped>\n",
       "    .dataframe tbody tr th:only-of-type {\n",
       "        vertical-align: middle;\n",
       "    }\n",
       "\n",
       "    .dataframe tbody tr th {\n",
       "        vertical-align: top;\n",
       "    }\n",
       "\n",
       "    .dataframe thead th {\n",
       "        text-align: right;\n",
       "    }\n",
       "</style>\n",
       "<table border=\"1\" class=\"dataframe\">\n",
       "  <thead>\n",
       "    <tr style=\"text-align: right;\">\n",
       "      <th></th>\n",
       "      <th>Mod_level</th>\n",
       "      <th>Prime_word</th>\n",
       "      <th>Target</th>\n",
       "      <th>Category</th>\n",
       "      <th>correct_response</th>\n",
       "      <th>word_length</th>\n",
       "    </tr>\n",
       "  </thead>\n",
       "  <tbody>\n",
       "    <tr>\n",
       "      <th>12</th>\n",
       "      <td>unrelated</td>\n",
       "      <td>SHOE</td>\n",
       "      <td>WALL</td>\n",
       "      <td>manmade</td>\n",
       "      <td>M</td>\n",
       "      <td>4</td>\n",
       "    </tr>\n",
       "    <tr>\n",
       "      <th>28</th>\n",
       "      <td>unrelated</td>\n",
       "      <td>KNEE</td>\n",
       "      <td>CAKE</td>\n",
       "      <td>manmade</td>\n",
       "      <td>M</td>\n",
       "      <td>4</td>\n",
       "    </tr>\n",
       "    <tr>\n",
       "      <th>48</th>\n",
       "      <td>unrelated</td>\n",
       "      <td>BUNS</td>\n",
       "      <td>LIST</td>\n",
       "      <td>manmade</td>\n",
       "      <td>M</td>\n",
       "      <td>4</td>\n",
       "    </tr>\n",
       "  </tbody>\n",
       "</table>\n",
       "</div>"
      ],
      "text/plain": [
       "    Mod_level Prime_word Target Category correct_response  word_length\n",
       "12  unrelated       SHOE   WALL  manmade                M            4\n",
       "28  unrelated       KNEE   CAKE  manmade                M            4\n",
       "48  unrelated       BUNS   LIST  manmade                M            4"
      ]
     },
     "execution_count": 56,
     "metadata": {},
     "output_type": "execute_result"
    }
   ],
   "source": [
    "manmade_unr1"
   ]
  },
  {
   "cell_type": "code",
   "execution_count": 57,
   "id": "f112a7c4",
   "metadata": {},
   "outputs": [
    {
     "data": {
      "text/html": [
       "<div>\n",
       "<style scoped>\n",
       "    .dataframe tbody tr th:only-of-type {\n",
       "        vertical-align: middle;\n",
       "    }\n",
       "\n",
       "    .dataframe tbody tr th {\n",
       "        vertical-align: top;\n",
       "    }\n",
       "\n",
       "    .dataframe thead th {\n",
       "        text-align: right;\n",
       "    }\n",
       "</style>\n",
       "<table border=\"1\" class=\"dataframe\">\n",
       "  <thead>\n",
       "    <tr style=\"text-align: right;\">\n",
       "      <th></th>\n",
       "      <th>Mod_level</th>\n",
       "      <th>Prime_word</th>\n",
       "      <th>Target</th>\n",
       "      <th>Category</th>\n",
       "      <th>correct_response</th>\n",
       "      <th>word_length</th>\n",
       "    </tr>\n",
       "  </thead>\n",
       "  <tbody>\n",
       "    <tr>\n",
       "      <th>16</th>\n",
       "      <td>unrelated</td>\n",
       "      <td>BATH</td>\n",
       "      <td>BALL</td>\n",
       "      <td>manmade</td>\n",
       "      <td>M</td>\n",
       "      <td>4</td>\n",
       "    </tr>\n",
       "    <tr>\n",
       "      <th>36</th>\n",
       "      <td>unrelated</td>\n",
       "      <td>MOOSE</td>\n",
       "      <td>TRUCK</td>\n",
       "      <td>manmade</td>\n",
       "      <td>M</td>\n",
       "      <td>5</td>\n",
       "    </tr>\n",
       "    <tr>\n",
       "      <th>52</th>\n",
       "      <td>unrelated</td>\n",
       "      <td>BREAD</td>\n",
       "      <td>PAGE</td>\n",
       "      <td>manmade</td>\n",
       "      <td>M</td>\n",
       "      <td>4</td>\n",
       "    </tr>\n",
       "  </tbody>\n",
       "</table>\n",
       "</div>"
      ],
      "text/plain": [
       "    Mod_level Prime_word Target Category correct_response  word_length\n",
       "16  unrelated       BATH   BALL  manmade                M            4\n",
       "36  unrelated      MOOSE  TRUCK  manmade                M            5\n",
       "52  unrelated      BREAD   PAGE  manmade                M            4"
      ]
     },
     "execution_count": 57,
     "metadata": {},
     "output_type": "execute_result"
    }
   ],
   "source": [
    "manmade_unr2"
   ]
  },
  {
   "cell_type": "code",
   "execution_count": 58,
   "id": "f6a25fc1",
   "metadata": {},
   "outputs": [
    {
     "data": {
      "text/html": [
       "<div>\n",
       "<style scoped>\n",
       "    .dataframe tbody tr th:only-of-type {\n",
       "        vertical-align: middle;\n",
       "    }\n",
       "\n",
       "    .dataframe tbody tr th {\n",
       "        vertical-align: top;\n",
       "    }\n",
       "\n",
       "    .dataframe thead th {\n",
       "        text-align: right;\n",
       "    }\n",
       "</style>\n",
       "<table border=\"1\" class=\"dataframe\">\n",
       "  <thead>\n",
       "    <tr style=\"text-align: right;\">\n",
       "      <th></th>\n",
       "      <th>Mod_level</th>\n",
       "      <th>Prime_word</th>\n",
       "      <th>Target</th>\n",
       "      <th>Category</th>\n",
       "      <th>correct_response</th>\n",
       "      <th>word_length</th>\n",
       "    </tr>\n",
       "  </thead>\n",
       "  <tbody>\n",
       "    <tr>\n",
       "      <th>20</th>\n",
       "      <td>unrelated</td>\n",
       "      <td>HOME</td>\n",
       "      <td>COAT</td>\n",
       "      <td>manmade</td>\n",
       "      <td>M</td>\n",
       "      <td>4</td>\n",
       "    </tr>\n",
       "    <tr>\n",
       "      <th>40</th>\n",
       "      <td>unrelated</td>\n",
       "      <td>TRICK</td>\n",
       "      <td>BREAD</td>\n",
       "      <td>manmade</td>\n",
       "      <td>M</td>\n",
       "      <td>5</td>\n",
       "    </tr>\n",
       "  </tbody>\n",
       "</table>\n",
       "</div>"
      ],
      "text/plain": [
       "    Mod_level Prime_word Target Category correct_response  word_length\n",
       "20  unrelated       HOME   COAT  manmade                M            4\n",
       "40  unrelated      TRICK  BREAD  manmade                M            5"
      ]
     },
     "execution_count": 58,
     "metadata": {},
     "output_type": "execute_result"
    }
   ],
   "source": [
    "manmade_unr3"
   ]
  },
  {
   "cell_type": "code",
   "execution_count": 59,
   "id": "33a3d84a",
   "metadata": {},
   "outputs": [
    {
     "data": {
      "text/html": [
       "<div>\n",
       "<style scoped>\n",
       "    .dataframe tbody tr th:only-of-type {\n",
       "        vertical-align: middle;\n",
       "    }\n",
       "\n",
       "    .dataframe tbody tr th {\n",
       "        vertical-align: top;\n",
       "    }\n",
       "\n",
       "    .dataframe thead th {\n",
       "        text-align: right;\n",
       "    }\n",
       "</style>\n",
       "<table border=\"1\" class=\"dataframe\">\n",
       "  <thead>\n",
       "    <tr style=\"text-align: right;\">\n",
       "      <th></th>\n",
       "      <th>Mod_level</th>\n",
       "      <th>Prime_word</th>\n",
       "      <th>Target</th>\n",
       "      <th>Category</th>\n",
       "      <th>correct_response</th>\n",
       "      <th>word_length</th>\n",
       "    </tr>\n",
       "  </thead>\n",
       "  <tbody>\n",
       "    <tr>\n",
       "      <th>24</th>\n",
       "      <td>unrelated</td>\n",
       "      <td>FROG</td>\n",
       "      <td>LAMP</td>\n",
       "      <td>manmade</td>\n",
       "      <td>M</td>\n",
       "      <td>4</td>\n",
       "    </tr>\n",
       "    <tr>\n",
       "      <th>44</th>\n",
       "      <td>unrelated</td>\n",
       "      <td>APLE</td>\n",
       "      <td>TOOL</td>\n",
       "      <td>manmade</td>\n",
       "      <td>M</td>\n",
       "      <td>4</td>\n",
       "    </tr>\n",
       "  </tbody>\n",
       "</table>\n",
       "</div>"
      ],
      "text/plain": [
       "    Mod_level Prime_word Target Category correct_response  word_length\n",
       "24  unrelated       FROG   LAMP  manmade                M            4\n",
       "44  unrelated       APLE   TOOL  manmade                M            4"
      ]
     },
     "execution_count": 59,
     "metadata": {},
     "output_type": "execute_result"
    }
   ],
   "source": [
    "manmade_unr4"
   ]
  },
  {
   "cell_type": "code",
   "execution_count": 60,
   "id": "da419bb9",
   "metadata": {},
   "outputs": [
    {
     "data": {
      "text/plain": [
       "{'BALL',\n",
       " 'BREAD',\n",
       " 'CAKE',\n",
       " 'COAT',\n",
       " 'LAMP',\n",
       " 'LIST',\n",
       " 'PAGE',\n",
       " 'TOOL',\n",
       " 'TRUCK',\n",
       " 'WALL'}"
      ]
     },
     "execution_count": 60,
     "metadata": {},
     "output_type": "execute_result"
    }
   ],
   "source": [
    "set(df.loc[df['Category'] == 'manmade']['Target'])"
   ]
  },
  {
   "cell_type": "code",
   "execution_count": null,
   "id": "43a8aab6",
   "metadata": {},
   "outputs": [],
   "source": []
  }
 ],
 "metadata": {
  "kernelspec": {
   "display_name": "Python 3",
   "language": "python",
   "name": "python3"
  },
  "language_info": {
   "codemirror_mode": {
    "name": "ipython",
    "version": 3
   },
   "file_extension": ".py",
   "mimetype": "text/x-python",
   "name": "python",
   "nbconvert_exporter": "python",
   "pygments_lexer": "ipython3",
   "version": "3.9.12"
  }
 },
 "nbformat": 4,
 "nbformat_minor": 5
}
