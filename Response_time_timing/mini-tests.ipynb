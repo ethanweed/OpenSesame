{
 "cells": [
  {
   "cell_type": "code",
   "execution_count": 2,
   "id": "5b2f8c15",
   "metadata": {},
   "outputs": [],
   "source": [
    "import pandas as pd\n",
    "import seaborn as sns\n",
    "import matplotlib as plt\n",
    "import pingouin as pg\n",
    "\n",
    "raw = pd.read_csv('https://raw.githubusercontent.com/ethanweed/OpenSesame/master/Response_time_timing/mini-experiments.csv')"
   ]
  },
  {
   "cell_type": "code",
   "execution_count": 8,
   "id": "66f62ebe",
   "metadata": {},
   "outputs": [
    {
     "data": {
      "text/plain": [
       "['acc',\n",
       " 'accuracy',\n",
       " 'average_response_time',\n",
       " 'avg_rt',\n",
       " 'background',\n",
       " 'bidi',\n",
       " 'browser_codename',\n",
       " 'browser_name',\n",
       " 'browser_version',\n",
       " 'canvas_backend',\n",
       " 'category',\n",
       " 'clock_backend',\n",
       " 'color',\n",
       " 'color_backend',\n",
       " 'compensation',\n",
       " 'condition',\n",
       " 'coordinates',\n",
       " 'correct',\n",
       " 'correct_keyboard_response_1',\n",
       " 'correct_response',\n",
       " 'count_WM_load',\n",
       " 'count_WM_sequence',\n",
       " 'count_WM_trials_loop',\n",
       " 'count_WM_trials_sequence',\n",
       " 'count_block_loop',\n",
       " 'count_block_sequence',\n",
       " 'count_color_choice',\n",
       " 'count_color_choice_multi',\n",
       " 'count_color_choice_multi_sequence',\n",
       " 'count_color_multi_loop',\n",
       " 'count_color_multi_sequence',\n",
       " 'count_color_target_1',\n",
       " 'count_color_target_1_1',\n",
       " 'count_color_word_id',\n",
       " 'count_color_word_id_sequence',\n",
       " 'count_color_word_id_trial_loop',\n",
       " 'count_color_word_id_trial_sequence',\n",
       " 'count_correct_1',\n",
       " 'count_counterbalance_javascript',\n",
       " 'count_experiment',\n",
       " 'count_feedback',\n",
       " 'count_feedback_1',\n",
       " 'count_feedback_1_1',\n",
       " 'count_fixation',\n",
       " 'count_fixation_1',\n",
       " 'count_fixation_color',\n",
       " 'count_fixation_food_tools',\n",
       " 'count_food_tools_loop',\n",
       " 'count_food_tools_trial_loop',\n",
       " 'count_food_tools_trial_sequence',\n",
       " 'count_goodbye',\n",
       " 'count_incorrect_1',\n",
       " 'count_instructions',\n",
       " 'count_instructions0',\n",
       " 'count_instructions1',\n",
       " 'count_instructions2',\n",
       " 'count_instructions_1',\n",
       " 'count_instructions_WM_1',\n",
       " 'count_instructions_WM_2',\n",
       " 'count_instructions_WM_3',\n",
       " 'count_isa',\n",
       " 'count_isa_1',\n",
       " 'count_keyboard_response_1',\n",
       " 'count_letter_number_loop',\n",
       " 'count_letter_target_1',\n",
       " 'count_letter_target_2',\n",
       " 'count_logger',\n",
       " 'count_new_reset_feedback_1',\n",
       " 'count_new_reset_feedback_2',\n",
       " 'count_new_reset_feedback_3',\n",
       " 'count_new_sequence',\n",
       " 'count_osweb',\n",
       " 'count_pick_numbers',\n",
       " 'count_pure_response',\n",
       " 'count_pure_response_sequence',\n",
       " 'count_reset_feedback',\n",
       " 'count_rt_block_loop',\n",
       " 'count_rt_target',\n",
       " 'count_rt_trial_sequence',\n",
       " 'count_set_soa',\n",
       " 'count_soa',\n",
       " 'count_symbol',\n",
       " 'count_symbol_1',\n",
       " 'count_trial_sequence',\n",
       " 'counterbalance',\n",
       " 'date_startdate',\n",
       " 'date_startdateUTC',\n",
       " 'date_starttime',\n",
       " 'datetime',\n",
       " 'description',\n",
       " 'disable_garbage_collection',\n",
       " 'empty_column',\n",
       " 'experiment_debug',\n",
       " 'experiment_parameters',\n",
       " 'experiment_path',\n",
       " 'experiment_pilot',\n",
       " 'experiment_taskname',\n",
       " 'experiment_taskversion',\n",
       " 'font_bold',\n",
       " 'font_family',\n",
       " 'font_italic',\n",
       " 'font_size',\n",
       " 'font_underline',\n",
       " 'foreground',\n",
       " 'form_clicks',\n",
       " 'fullscreen',\n",
       " 'height',\n",
       " 'jatosStudyResultId',\n",
       " 'jatosVersion',\n",
       " 'keyboard_backend',\n",
       " 'letter1',\n",
       " 'letter2',\n",
       " 'letter_response',\n",
       " 'mouse_backend',\n",
       " 'num',\n",
       " 'number_response',\n",
       " 'opensesame_codename',\n",
       " 'opensesame_version',\n",
       " 'penwidth',\n",
       " 'practice',\n",
       " 'queryParams_batchId',\n",
       " 'queryParams_generalMultiple',\n",
       " 'repeat_cycle',\n",
       " 'response',\n",
       " 'response_feedback',\n",
       " 'response_feedback_1',\n",
       " 'response_feedback_1_1',\n",
       " 'response_instructions',\n",
       " 'response_instructions0',\n",
       " 'response_instructions1',\n",
       " 'response_instructions2',\n",
       " 'response_instructions_1',\n",
       " 'response_instructions_WM_1',\n",
       " 'response_instructions_WM_2',\n",
       " 'response_instructions_WM_3',\n",
       " 'response_keyboard_response_1',\n",
       " 'response_time',\n",
       " 'response_time_feedback',\n",
       " 'response_time_feedback_1',\n",
       " 'response_time_feedback_1_1',\n",
       " 'response_time_instructions',\n",
       " 'response_time_instructions0',\n",
       " 'response_time_instructions1',\n",
       " 'response_time_instructions2',\n",
       " 'response_time_instructions_1',\n",
       " 'response_time_instructions_WM_1',\n",
       " 'response_time_instructions_WM_2',\n",
       " 'response_time_instructions_WM_3',\n",
       " 'response_time_keyboard_response_1',\n",
       " 'round_decimals',\n",
       " 'sampler_backend',\n",
       " 'screen_availableHeight',\n",
       " 'screen_availableWidth',\n",
       " 'screen_colorDepth',\n",
       " 'screen_height',\n",
       " 'screen_pixelDepth',\n",
       " 'screen_screenX',\n",
       " 'screen_screenY',\n",
       " 'screen_width',\n",
       " 'sessionid',\n",
       " 'soa',\n",
       " 'sound_buf_size',\n",
       " 'sound_channels',\n",
       " 'sound_freq',\n",
       " 'sound_sample_size',\n",
       " 'start',\n",
       " 'subject_nr',\n",
       " 'subject_parity',\n",
       " 'synth_backend',\n",
       " 'system_os',\n",
       " 'target',\n",
       " 'time_WM_load',\n",
       " 'time_WM_trials_loop',\n",
       " 'time_block_loop',\n",
       " 'time_color_choice',\n",
       " 'time_color_choice_multi',\n",
       " 'time_color_multi_loop',\n",
       " 'time_color_target_1',\n",
       " 'time_color_target_1_1',\n",
       " 'time_color_word_id',\n",
       " 'time_color_word_id_trial_loop',\n",
       " 'time_correct_1',\n",
       " 'time_feedback',\n",
       " 'time_feedback_1',\n",
       " 'time_feedback_1_1',\n",
       " 'time_fixation',\n",
       " 'time_fixation_1',\n",
       " 'time_fixation_color',\n",
       " 'time_fixation_food_tools',\n",
       " 'time_food_tools_loop',\n",
       " 'time_food_tools_trial_loop',\n",
       " 'time_incorrect_1',\n",
       " 'time_instructions',\n",
       " 'time_instructions0',\n",
       " 'time_instructions1',\n",
       " 'time_instructions2',\n",
       " 'time_instructions_1',\n",
       " 'time_instructions_WM_1',\n",
       " 'time_instructions_WM_2',\n",
       " 'time_instructions_WM_3',\n",
       " 'time_isa',\n",
       " 'time_isa_1',\n",
       " 'time_keyboard_response_1',\n",
       " 'time_letter_number_loop',\n",
       " 'time_letter_target_1',\n",
       " 'time_letter_target_2',\n",
       " 'time_logger',\n",
       " 'time_pick_numbers',\n",
       " 'time_pure_response',\n",
       " 'time_rt_block_loop',\n",
       " 'time_rt_target',\n",
       " 'time_set_soa',\n",
       " 'time_soa',\n",
       " 'time_symbol',\n",
       " 'time_symbol_1',\n",
       " 'title',\n",
       " 'total_correct',\n",
       " 'total_response_time',\n",
       " 'total_responses',\n",
       " 'uniform_coordinates',\n",
       " 'width']"
      ]
     },
     "execution_count": 8,
     "metadata": {},
     "output_type": "execute_result"
    }
   ],
   "source": [
    "list(raw)"
   ]
  },
  {
   "cell_type": "code",
   "execution_count": 9,
   "id": "5905891e",
   "metadata": {},
   "outputs": [],
   "source": [
    "#response_time\n",
    "#accuracy\n",
    "#id\n",
    "#condition"
   ]
  },
  {
   "cell_type": "code",
   "execution_count": 14,
   "id": "335ff8e9",
   "metadata": {},
   "outputs": [
    {
     "data": {
      "text/html": [
       "<div>\n",
       "<style scoped>\n",
       "    .dataframe tbody tr th:only-of-type {\n",
       "        vertical-align: middle;\n",
       "    }\n",
       "\n",
       "    .dataframe tbody tr th {\n",
       "        vertical-align: top;\n",
       "    }\n",
       "\n",
       "    .dataframe thead th {\n",
       "        text-align: right;\n",
       "    }\n",
       "</style>\n",
       "<table border=\"1\" class=\"dataframe\">\n",
       "  <thead>\n",
       "    <tr style=\"text-align: right;\">\n",
       "      <th></th>\n",
       "      <th>rt</th>\n",
       "      <th>correct</th>\n",
       "      <th>id</th>\n",
       "      <th>condition</th>\n",
       "    </tr>\n",
       "  </thead>\n",
       "  <tbody>\n",
       "    <tr>\n",
       "      <th>0</th>\n",
       "      <td>237</td>\n",
       "      <td>1</td>\n",
       "      <td>967</td>\n",
       "      <td>pure_rt</td>\n",
       "    </tr>\n",
       "    <tr>\n",
       "      <th>1</th>\n",
       "      <td>244</td>\n",
       "      <td>1</td>\n",
       "      <td>967</td>\n",
       "      <td>pure_rt</td>\n",
       "    </tr>\n",
       "    <tr>\n",
       "      <th>2</th>\n",
       "      <td>274</td>\n",
       "      <td>1</td>\n",
       "      <td>967</td>\n",
       "      <td>pure_rt</td>\n",
       "    </tr>\n",
       "    <tr>\n",
       "      <th>3</th>\n",
       "      <td>220</td>\n",
       "      <td>1</td>\n",
       "      <td>967</td>\n",
       "      <td>pure_rt</td>\n",
       "    </tr>\n",
       "    <tr>\n",
       "      <th>4</th>\n",
       "      <td>368</td>\n",
       "      <td>1</td>\n",
       "      <td>967</td>\n",
       "      <td>pure_rt</td>\n",
       "    </tr>\n",
       "    <tr>\n",
       "      <th>...</th>\n",
       "      <td>...</td>\n",
       "      <td>...</td>\n",
       "      <td>...</td>\n",
       "      <td>...</td>\n",
       "    </tr>\n",
       "    <tr>\n",
       "      <th>2473</th>\n",
       "      <td>1092</td>\n",
       "      <td>0</td>\n",
       "      <td>945</td>\n",
       "      <td>WM</td>\n",
       "    </tr>\n",
       "    <tr>\n",
       "      <th>2474</th>\n",
       "      <td>502</td>\n",
       "      <td>1</td>\n",
       "      <td>945</td>\n",
       "      <td>WM</td>\n",
       "    </tr>\n",
       "    <tr>\n",
       "      <th>2475</th>\n",
       "      <td>715</td>\n",
       "      <td>0</td>\n",
       "      <td>945</td>\n",
       "      <td>WM</td>\n",
       "    </tr>\n",
       "    <tr>\n",
       "      <th>2476</th>\n",
       "      <td>1104</td>\n",
       "      <td>1</td>\n",
       "      <td>945</td>\n",
       "      <td>WM</td>\n",
       "    </tr>\n",
       "    <tr>\n",
       "      <th>2477</th>\n",
       "      <td>452</td>\n",
       "      <td>1</td>\n",
       "      <td>945</td>\n",
       "      <td>WM</td>\n",
       "    </tr>\n",
       "  </tbody>\n",
       "</table>\n",
       "<p>2478 rows × 4 columns</p>\n",
       "</div>"
      ],
      "text/plain": [
       "        rt  correct   id condition\n",
       "0      237        1  967   pure_rt\n",
       "1      244        1  967   pure_rt\n",
       "2      274        1  967   pure_rt\n",
       "3      220        1  967   pure_rt\n",
       "4      368        1  967   pure_rt\n",
       "...    ...      ...  ...       ...\n",
       "2473  1092        0  945        WM\n",
       "2474   502        1  945        WM\n",
       "2475   715        0  945        WM\n",
       "2476  1104        1  945        WM\n",
       "2477   452        1  945        WM\n",
       "\n",
       "[2478 rows x 4 columns]"
      ]
     },
     "execution_count": 14,
     "metadata": {},
     "output_type": "execute_result"
    }
   ],
   "source": [
    "df = pd.DataFrame({'rt': raw['response_time'],\n",
    "                  'correct': raw['correct'],\n",
    "                  'id': raw['jatosStudyResultId'],\n",
    "                  'condition': raw['condition']})\n",
    "df"
   ]
  },
  {
   "cell_type": "code",
   "execution_count": 15,
   "id": "570d94f5",
   "metadata": {},
   "outputs": [
    {
     "data": {
      "text/plain": [
       "{'WM', 'color_1/4', 'color_words', 'food_tools', 'letter_vs_number', 'pure_rt'}"
      ]
     },
     "execution_count": 15,
     "metadata": {},
     "output_type": "execute_result"
    }
   ],
   "source": [
    "set(df['condition'])"
   ]
  },
  {
   "cell_type": "code",
   "execution_count": 16,
   "id": "c82e5f70",
   "metadata": {},
   "outputs": [],
   "source": [
    "# make a figure showing the response time for all the conditions"
   ]
  },
  {
   "cell_type": "code",
   "execution_count": 19,
   "id": "921a4caa",
   "metadata": {},
   "outputs": [
    {
     "data": {
      "text/plain": [
       "<AxesSubplot:xlabel='rt', ylabel='condition'>"
      ]
     },
     "execution_count": 19,
     "metadata": {},
     "output_type": "execute_result"
    },
    {
     "data": {
      "image/png": "[encoded data removed]",
      "text/plain": [
       "<Figure size 432x288 with 1 Axes>"
      ]
     },
     "metadata": {
      "needs_background": "light"
     },
     "output_type": "display_data"
    }
   ],
   "source": [
    "sns.barplot(data = df, x = 'rt', y = 'condition')"
   ]
  },
  {
   "cell_type": "code",
   "execution_count": 20,
   "id": "9f812bca",
   "metadata": {},
   "outputs": [
    {
     "data": {
      "text/plain": [
       "<AxesSubplot:xlabel='condition', ylabel='rt'>"
      ]
     },
     "execution_count": 20,
     "metadata": {},
     "output_type": "execute_result"
    },
    {
     "data": {
      "image/png": "[encoded data removed]",
      "text/plain": [
       "<Figure size 432x288 with 1 Axes>"
      ]
     },
     "metadata": {
      "needs_background": "light"
     },
     "output_type": "display_data"
    }
   ],
   "source": [
    "sns.scatterplot(data = df, x = 'condition', y = 'rt')"
   ]
  },
  {
   "cell_type": "code",
   "execution_count": 23,
   "id": "3109099d",
   "metadata": {},
   "outputs": [
    {
     "data": {
      "text/plain": [
       "(0.0, 1000.0)"
      ]
     },
     "execution_count": 23,
     "metadata": {},
     "output_type": "execute_result"
    },
    {
     "data": {
      "image/png": "[encoded data removed]",
      "text/plain": [
       "<Figure size 432x288 with 1 Axes>"
      ]
     },
     "metadata": {
      "needs_background": "light"
     },
     "output_type": "display_data"
    }
   ],
   "source": [
    "pure = df.loc[df['condition'] == 'pure_rt']\n",
    "ax = sns.kdeplot(data = pure, x = 'rt')\n",
    "ax.set_xlim(0,1000)"
   ]
  },
  {
   "cell_type": "code",
   "execution_count": null,
   "id": "99979ac7",
   "metadata": {},
   "outputs": [],
   "source": [
    "data = df.loc[() | ()]"
   ]
  },
  {
   "cell_type": "code",
   "execution_count": 24,
   "id": "e53a0bb7",
   "metadata": {},
   "outputs": [],
   "source": [
    "data = df.loc[(df['condition'] == 'pure_rt')|(df['condition'] == 'color_1/4')]"
   ]
  },
  {
   "cell_type": "code",
   "execution_count": 25,
   "id": "f2200bb5",
   "metadata": {},
   "outputs": [
    {
     "data": {
      "text/plain": [
       "(0.0, 1000.0)"
      ]
     },
     "execution_count": 25,
     "metadata": {},
     "output_type": "execute_result"
    },
    {
     "data": {
      "image/png": "[encoded data removed]",
      "text/plain": [
       "<Figure size 432x288 with 1 Axes>"
      ]
     },
     "metadata": {
      "needs_background": "light"
     },
     "output_type": "display_data"
    }
   ],
   "source": [
    "ax = sns.kdeplot(data = data, x = 'rt', hue = 'condition')\n",
    "ax.set_xlim(0,1000)"
   ]
  },
  {
   "cell_type": "code",
   "execution_count": 29,
   "id": "d983db14",
   "metadata": {},
   "outputs": [
    {
     "data": {
      "text/html": [
       "<div>\n",
       "<style scoped>\n",
       "    .dataframe tbody tr th:only-of-type {\n",
       "        vertical-align: middle;\n",
       "    }\n",
       "\n",
       "    .dataframe tbody tr th {\n",
       "        vertical-align: top;\n",
       "    }\n",
       "\n",
       "    .dataframe thead th {\n",
       "        text-align: right;\n",
       "    }\n",
       "</style>\n",
       "<table border=\"1\" class=\"dataframe\">\n",
       "  <thead>\n",
       "    <tr style=\"text-align: right;\">\n",
       "      <th></th>\n",
       "      <th>T</th>\n",
       "      <th>dof</th>\n",
       "      <th>alternative</th>\n",
       "      <th>p-val</th>\n",
       "      <th>CI95%</th>\n",
       "      <th>cohen-d</th>\n",
       "      <th>BF10</th>\n",
       "      <th>power</th>\n",
       "    </tr>\n",
       "  </thead>\n",
       "  <tbody>\n",
       "    <tr>\n",
       "      <th>T-test</th>\n",
       "      <td>-24.667</td>\n",
       "      <td>419</td>\n",
       "      <td>two-sided</td>\n",
       "      <td>0.0</td>\n",
       "      <td>[-140.52, -119.78]</td>\n",
       "      <td>1.4737</td>\n",
       "      <td>9.064e+79</td>\n",
       "      <td>1.0</td>\n",
       "    </tr>\n",
       "  </tbody>\n",
       "</table>\n",
       "</div>"
      ],
      "text/plain": [
       "             T  dof alternative  p-val               CI95%  cohen-d  \\\n",
       "T-test -24.667  419   two-sided    0.0  [-140.52, -119.78]   1.4737   \n",
       "\n",
       "             BF10  power  \n",
       "T-test  9.064e+79    1.0  "
      ]
     },
     "execution_count": 29,
     "metadata": {},
     "output_type": "execute_result"
    }
   ],
   "source": [
    "pure_rt = df.loc[df['condition'] == 'pure_rt']['rt']\n",
    "binary_choice = df.loc[df['condition'] == 'color_1/4']['rt']\n",
    "\n",
    "pg.ttest(pure_rt, binary_choice, paired = True).round(4)"
   ]
  },
  {
   "cell_type": "code",
   "execution_count": 30,
   "id": "78802358",
   "metadata": {},
   "outputs": [
    {
     "data": {
      "text/html": [
       "<div>\n",
       "<style scoped>\n",
       "    .dataframe tbody tr th:only-of-type {\n",
       "        vertical-align: middle;\n",
       "    }\n",
       "\n",
       "    .dataframe tbody tr th {\n",
       "        vertical-align: top;\n",
       "    }\n",
       "\n",
       "    .dataframe thead th {\n",
       "        text-align: right;\n",
       "    }\n",
       "</style>\n",
       "<table border=\"1\" class=\"dataframe\">\n",
       "  <thead>\n",
       "    <tr style=\"text-align: right;\">\n",
       "      <th></th>\n",
       "      <th>T</th>\n",
       "      <th>dof</th>\n",
       "      <th>alternative</th>\n",
       "      <th>p-val</th>\n",
       "      <th>CI95%</th>\n",
       "      <th>cohen-d</th>\n",
       "      <th>BF10</th>\n",
       "      <th>power</th>\n",
       "    </tr>\n",
       "  </thead>\n",
       "  <tbody>\n",
       "    <tr>\n",
       "      <th>T-test</th>\n",
       "      <td>14.2525</td>\n",
       "      <td>20</td>\n",
       "      <td>two-sided</td>\n",
       "      <td>0.0</td>\n",
       "      <td>[111.1, 149.2]</td>\n",
       "      <td>2.5394</td>\n",
       "      <td>1.28e+09</td>\n",
       "      <td>1.0</td>\n",
       "    </tr>\n",
       "  </tbody>\n",
       "</table>\n",
       "</div>"
      ],
      "text/plain": [
       "              T  dof alternative  p-val           CI95%  cohen-d      BF10  \\\n",
       "T-test  14.2525   20   two-sided    0.0  [111.1, 149.2]   2.5394  1.28e+09   \n",
       "\n",
       "        power  \n",
       "T-test    1.0  "
      ]
     },
     "execution_count": 30,
     "metadata": {},
     "output_type": "execute_result"
    }
   ],
   "source": [
    "df_means = df.groupby(['id', 'condition']).mean().reset_index()\n",
    "pure_rt = df_means.loc[df_means['condition'] == 'pure_rt']['rt']\n",
    "binary_choice = df_means.loc[df_means['condition'] == 'color_1/4']['rt']\n",
    "\n",
    "pg.ttest(binary_choice,pure_rt, paired = True).round(4)"
   ]
  },
  {
   "cell_type": "code",
   "execution_count": null,
   "id": "f71501d9",
   "metadata": {},
   "outputs": [],
   "source": []
  }
 ],
 "metadata": {
  "kernelspec": {
   "display_name": "Python 3",
   "language": "python",
   "name": "python3"
  },
  "language_info": {
   "codemirror_mode": {
    "name": "ipython",
    "version": 3
   },
   "file_extension": ".py",
   "mimetype": "text/x-python",
   "name": "python",
   "nbconvert_exporter": "python",
   "pygments_lexer": "ipython3",
   "version": "3.9.12"
  }
 },
 "nbformat": 4,
 "nbformat_minor": 5
}
