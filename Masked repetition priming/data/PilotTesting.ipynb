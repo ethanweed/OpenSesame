{
 "cells": [
  {
   "cell_type": "code",
   "execution_count": 2,
   "id": "14a2b414",
   "metadata": {},
   "outputs": [],
   "source": [
    "import pandas as pd"
   ]
  },
  {
   "cell_type": "code",
   "execution_count": 2,
   "id": "d1b07fa4",
   "metadata": {},
   "outputs": [],
   "source": [
    "raw = pd.read_csv(\"subject-0.csv\")"
   ]
  },
  {
   "cell_type": "code",
   "execution_count": 12,
   "id": "e68b4b4b",
   "metadata": {},
   "outputs": [],
   "source": [
    "#list(raw)"
   ]
  },
  {
   "cell_type": "code",
   "execution_count": 32,
   "id": "91b2d9c4",
   "metadata": {},
   "outputs": [
    {
     "data": {
      "text/html": [
       "<div>\n",
       "<style scoped>\n",
       "    .dataframe tbody tr th:only-of-type {\n",
       "        vertical-align: middle;\n",
       "    }\n",
       "\n",
       "    .dataframe tbody tr th {\n",
       "        vertical-align: top;\n",
       "    }\n",
       "\n",
       "    .dataframe thead th {\n",
       "        text-align: right;\n",
       "    }\n",
       "</style>\n",
       "<table border=\"1\" class=\"dataframe\">\n",
       "  <thead>\n",
       "    <tr style=\"text-align: right;\">\n",
       "      <th></th>\n",
       "      <th>condition</th>\n",
       "      <th>rt</th>\n",
       "    </tr>\n",
       "  </thead>\n",
       "  <tbody>\n",
       "    <tr>\n",
       "      <th>0</th>\n",
       "      <td>Con_Nat</td>\n",
       "      <td>756.043208</td>\n",
       "    </tr>\n",
       "    <tr>\n",
       "      <th>1</th>\n",
       "      <td>Inc_Nat_Synth</td>\n",
       "      <td>1136.466708</td>\n",
       "    </tr>\n",
       "    <tr>\n",
       "      <th>2</th>\n",
       "      <td>Con_Synth</td>\n",
       "      <td>942.167583</td>\n",
       "    </tr>\n",
       "    <tr>\n",
       "      <th>3</th>\n",
       "      <td>Inc_Synth_Nat</td>\n",
       "      <td>890.637000</td>\n",
       "    </tr>\n",
       "    <tr>\n",
       "      <th>4</th>\n",
       "      <td>Con_Synth</td>\n",
       "      <td>1050.574917</td>\n",
       "    </tr>\n",
       "  </tbody>\n",
       "</table>\n",
       "</div>"
      ],
      "text/plain": [
       "       condition           rt\n",
       "0        Con_Nat   756.043208\n",
       "1  Inc_Nat_Synth  1136.466708\n",
       "2      Con_Synth   942.167583\n",
       "3  Inc_Synth_Nat   890.637000\n",
       "4      Con_Synth  1050.574917"
      ]
     },
     "execution_count": 32,
     "metadata": {},
     "output_type": "execute_result"
    }
   ],
   "source": [
    "df = pd.DataFrame({\"condition\": raw['condition'],\n",
    "                  \"rt\": raw['response_time']})\n",
    "df.head()"
   ]
  },
  {
   "cell_type": "code",
   "execution_count": 38,
   "id": "4c9d12fe",
   "metadata": {},
   "outputs": [
    {
     "name": "stderr",
     "output_type": "stream",
     "text": [
      "/var/folders/6m/mwt0c30539b1zrk5vf14dpr44pd98r/T/ipykernel_69841/2525549875.py:3: SettingWithCopyWarning: \n",
      "A value is trying to be set on a copy of a slice from a DataFrame.\n",
      "Try using .loc[row_indexer,col_indexer] = value instead\n",
      "\n",
      "See the caveats in the documentation: https://pandas.pydata.org/pandas-docs/stable/user_guide/indexing.html#returning-a-view-versus-a-copy\n",
      "  df_con['congruence'] = ['congruent']*len(df_con)\n",
      "/var/folders/6m/mwt0c30539b1zrk5vf14dpr44pd98r/T/ipykernel_69841/2525549875.py:4: SettingWithCopyWarning: \n",
      "A value is trying to be set on a copy of a slice from a DataFrame.\n",
      "Try using .loc[row_indexer,col_indexer] = value instead\n",
      "\n",
      "See the caveats in the documentation: https://pandas.pydata.org/pandas-docs/stable/user_guide/indexing.html#returning-a-view-versus-a-copy\n",
      "  df_inc['congruence'] = ['incongruent']*len(df_inc)\n"
     ]
    }
   ],
   "source": [
    "df_con = df.loc[(df['condition'] == \"Con_Nat\") | (df['condition'] == \"Con_Synth\")]\n",
    "df_inc = df.loc[(df['condition'] == \"Inc_Nat_Synth\") | (df['condition'] == \"Inc_Synth_Nat\")]\n",
    "df_con['congruence'] = ['congruent']*len(df_con)\n",
    "df_inc['congruence'] = ['incongruent']*len(df_inc)\n",
    "data = pd.concat([df_con,df_inc])\n"
   ]
  },
  {
   "cell_type": "code",
   "execution_count": 6,
   "id": "4c201587",
   "metadata": {},
   "outputs": [],
   "source": [
    "import seaborn as sns"
   ]
  },
  {
   "cell_type": "code",
   "execution_count": 35,
   "id": "73ae96ed",
   "metadata": {},
   "outputs": [
    {
     "data": {
      "text/plain": [
       "<AxesSubplot:xlabel='congruence', ylabel='rt'>"
      ]
     },
     "execution_count": 35,
     "metadata": {},
     "output_type": "execute_result"
    },
    {
     "data": {
      "image/png": "[encoded data removed]",
      "text/plain": [
       "<Figure size 432x288 with 1 Axes>"
      ]
     },
     "metadata": {
      "needs_background": "light"
     },
     "output_type": "display_data"
    }
   ],
   "source": [
    "sns.pointplot(data = data, x = 'congruence', y = 'rt')"
   ]
  },
  {
   "cell_type": "code",
   "execution_count": 36,
   "id": "1aef4938",
   "metadata": {},
   "outputs": [],
   "source": [
    "import pingouin as pg"
   ]
  },
  {
   "cell_type": "code",
   "execution_count": 39,
   "id": "35827bd5",
   "metadata": {},
   "outputs": [
    {
     "data": {
      "text/html": [
       "<div>\n",
       "<style scoped>\n",
       "    .dataframe tbody tr th:only-of-type {\n",
       "        vertical-align: middle;\n",
       "    }\n",
       "\n",
       "    .dataframe tbody tr th {\n",
       "        vertical-align: top;\n",
       "    }\n",
       "\n",
       "    .dataframe thead th {\n",
       "        text-align: right;\n",
       "    }\n",
       "</style>\n",
       "<table border=\"1\" class=\"dataframe\">\n",
       "  <thead>\n",
       "    <tr style=\"text-align: right;\">\n",
       "      <th></th>\n",
       "      <th>T</th>\n",
       "      <th>dof</th>\n",
       "      <th>alternative</th>\n",
       "      <th>p-val</th>\n",
       "      <th>CI95%</th>\n",
       "      <th>cohen-d</th>\n",
       "      <th>BF10</th>\n",
       "      <th>power</th>\n",
       "    </tr>\n",
       "  </thead>\n",
       "  <tbody>\n",
       "    <tr>\n",
       "      <th>T-test</th>\n",
       "      <td>0.760976</td>\n",
       "      <td>58</td>\n",
       "      <td>two-sided</td>\n",
       "      <td>0.449754</td>\n",
       "      <td>[-88.57, 197.2]</td>\n",
       "      <td>0.196483</td>\n",
       "      <td>0.335</td>\n",
       "      <td>0.116227</td>\n",
       "    </tr>\n",
       "  </tbody>\n",
       "</table>\n",
       "</div>"
      ],
      "text/plain": [
       "               T  dof alternative     p-val            CI95%   cohen-d   BF10  \\\n",
       "T-test  0.760976   58   two-sided  0.449754  [-88.57, 197.2]  0.196483  0.335   \n",
       "\n",
       "           power  \n",
       "T-test  0.116227  "
      ]
     },
     "execution_count": 39,
     "metadata": {},
     "output_type": "execute_result"
    }
   ],
   "source": [
    "pg.ttest(data.loc[data['congruence'] == 'congruent']['rt'], data.loc[data['congruence'] == 'incongruent']['rt'])"
   ]
  },
  {
   "cell_type": "code",
   "execution_count": 41,
   "id": "185256e5",
   "metadata": {},
   "outputs": [],
   "source": [
    "import statistics"
   ]
  },
  {
   "cell_type": "code",
   "execution_count": 43,
   "id": "9f0255d0",
   "metadata": {},
   "outputs": [
    {
     "data": {
      "text/plain": [
       "899.6909764071461"
      ]
     },
     "execution_count": 43,
     "metadata": {},
     "output_type": "execute_result"
    }
   ],
   "source": [
    "data.loc[data['congruence'] == 'congruent']['rt'].mean()"
   ]
  },
  {
   "cell_type": "code",
   "execution_count": 44,
   "id": "0e7ff311",
   "metadata": {},
   "outputs": [
    {
     "data": {
      "text/plain": [
       "845.3718513327962"
      ]
     },
     "execution_count": 44,
     "metadata": {},
     "output_type": "execute_result"
    }
   ],
   "source": [
    "data.loc[data['congruence'] == 'incongruent']['rt'].mean()"
   ]
  },
  {
   "cell_type": "code",
   "execution_count": null,
   "id": "bd9026dc",
   "metadata": {},
   "outputs": [],
   "source": []
  },
  {
   "cell_type": "code",
   "execution_count": null,
   "id": "705d8ce0",
   "metadata": {},
   "outputs": [],
   "source": []
  },
  {
   "cell_type": "code",
   "execution_count": 86,
   "id": "71e9e2bd",
   "metadata": {},
   "outputs": [],
   "source": [
    "raw = pd.read_csv(\"subject-8.csv\")"
   ]
  },
  {
   "cell_type": "code",
   "execution_count": 70,
   "id": "7398124a",
   "metadata": {},
   "outputs": [
    {
     "data": {
      "text/plain": [
       "['condition',\n",
       " 'congruence',\n",
       " 'prime',\n",
       " 'response_time',\n",
       " 'soa_condition',\n",
       " 'target']"
      ]
     },
     "execution_count": 70,
     "metadata": {},
     "output_type": "execute_result"
    }
   ],
   "source": [
    "list(raw)"
   ]
  },
  {
   "cell_type": "code",
   "execution_count": 89,
   "id": "2b08cce8",
   "metadata": {},
   "outputs": [
    {
     "data": {
      "text/html": [
       "<div>\n",
       "<style scoped>\n",
       "    .dataframe tbody tr th:only-of-type {\n",
       "        vertical-align: middle;\n",
       "    }\n",
       "\n",
       "    .dataframe tbody tr th {\n",
       "        vertical-align: top;\n",
       "    }\n",
       "\n",
       "    .dataframe thead th {\n",
       "        text-align: right;\n",
       "    }\n",
       "</style>\n",
       "<table border=\"1\" class=\"dataframe\">\n",
       "  <thead>\n",
       "    <tr style=\"text-align: right;\">\n",
       "      <th></th>\n",
       "      <th>condition</th>\n",
       "      <th>rt</th>\n",
       "      <th>congruence</th>\n",
       "      <th>soa</th>\n",
       "    </tr>\n",
       "  </thead>\n",
       "  <tbody>\n",
       "    <tr>\n",
       "      <th>4</th>\n",
       "      <td>Inc_Nat_Synth</td>\n",
       "      <td>568.063375</td>\n",
       "      <td>incongruent</td>\n",
       "      <td>short</td>\n",
       "    </tr>\n",
       "    <tr>\n",
       "      <th>5</th>\n",
       "      <td>Inc_Nat_Synth</td>\n",
       "      <td>539.489458</td>\n",
       "      <td>incongruent</td>\n",
       "      <td>short</td>\n",
       "    </tr>\n",
       "    <tr>\n",
       "      <th>6</th>\n",
       "      <td>Con_Nat</td>\n",
       "      <td>596.461917</td>\n",
       "      <td>congruent</td>\n",
       "      <td>short</td>\n",
       "    </tr>\n",
       "    <tr>\n",
       "      <th>7</th>\n",
       "      <td>Inc_Synth_Nat</td>\n",
       "      <td>690.101708</td>\n",
       "      <td>incongruent</td>\n",
       "      <td>short</td>\n",
       "    </tr>\n",
       "    <tr>\n",
       "      <th>8</th>\n",
       "      <td>Con_Nat</td>\n",
       "      <td>569.549000</td>\n",
       "      <td>congruent</td>\n",
       "      <td>short</td>\n",
       "    </tr>\n",
       "  </tbody>\n",
       "</table>\n",
       "</div>"
      ],
      "text/plain": [
       "       condition          rt   congruence    soa\n",
       "4  Inc_Nat_Synth  568.063375  incongruent  short\n",
       "5  Inc_Nat_Synth  539.489458  incongruent  short\n",
       "6        Con_Nat  596.461917    congruent  short\n",
       "7  Inc_Synth_Nat  690.101708  incongruent  short\n",
       "8        Con_Nat  569.549000    congruent  short"
      ]
     },
     "execution_count": 89,
     "metadata": {},
     "output_type": "execute_result"
    }
   ],
   "source": [
    "df = pd.DataFrame({\"condition\": raw['condition'],\n",
    "                  \"rt\": raw['response_time'],\n",
    "                  \"congruence\": raw['congruence'],\n",
    "                  \"soa\": raw['soa_condition']})\n",
    "df = df.loc[df['soa'] != 'practice']\n",
    "\n",
    "df.head()"
   ]
  },
  {
   "cell_type": "code",
   "execution_count": 90,
   "id": "79d22625",
   "metadata": {},
   "outputs": [
    {
     "data": {
      "text/plain": [
       "<AxesSubplot:xlabel='congruence', ylabel='rt'>"
      ]
     },
     "execution_count": 90,
     "metadata": {},
     "output_type": "execute_result"
    },
    {
     "data": {
      "image/png": "[encoded data removed]",
      "text/plain": [
       "<Figure size 432x288 with 1 Axes>"
      ]
     },
     "metadata": {
      "needs_background": "light"
     },
     "output_type": "display_data"
    }
   ],
   "source": [
    "sns.pointplot(data = df, x = 'congruence', y = 'rt', hue = 'soa')"
   ]
  },
  {
   "cell_type": "code",
   "execution_count": 93,
   "id": "a8660799",
   "metadata": {},
   "outputs": [],
   "source": [
    "x = df.loc[(df['congruence'] == 'congruent') & (df['soa'] == 'short')]['rt']\n",
    "y = df.loc[(df['congruence'] == 'incongruent') & (df['soa'] == 'short')]['rt']"
   ]
  },
  {
   "cell_type": "code",
   "execution_count": 94,
   "id": "afa30b74",
   "metadata": {},
   "outputs": [
    {
     "data": {
      "text/html": [
       "<div>\n",
       "<style scoped>\n",
       "    .dataframe tbody tr th:only-of-type {\n",
       "        vertical-align: middle;\n",
       "    }\n",
       "\n",
       "    .dataframe tbody tr th {\n",
       "        vertical-align: top;\n",
       "    }\n",
       "\n",
       "    .dataframe thead th {\n",
       "        text-align: right;\n",
       "    }\n",
       "</style>\n",
       "<table border=\"1\" class=\"dataframe\">\n",
       "  <thead>\n",
       "    <tr style=\"text-align: right;\">\n",
       "      <th></th>\n",
       "      <th>T</th>\n",
       "      <th>dof</th>\n",
       "      <th>alternative</th>\n",
       "      <th>p-val</th>\n",
       "      <th>CI95%</th>\n",
       "      <th>cohen-d</th>\n",
       "      <th>BF10</th>\n",
       "      <th>power</th>\n",
       "    </tr>\n",
       "  </thead>\n",
       "  <tbody>\n",
       "    <tr>\n",
       "      <th>T-test</th>\n",
       "      <td>-0.3447</td>\n",
       "      <td>58</td>\n",
       "      <td>two-sided</td>\n",
       "      <td>0.731567</td>\n",
       "      <td>[-49.55, 34.99]</td>\n",
       "      <td>0.089001</td>\n",
       "      <td>0.276</td>\n",
       "      <td>0.063268</td>\n",
       "    </tr>\n",
       "  </tbody>\n",
       "</table>\n",
       "</div>"
      ],
      "text/plain": [
       "             T  dof alternative     p-val            CI95%   cohen-d   BF10  \\\n",
       "T-test -0.3447   58   two-sided  0.731567  [-49.55, 34.99]  0.089001  0.276   \n",
       "\n",
       "           power  \n",
       "T-test  0.063268  "
      ]
     },
     "execution_count": 94,
     "metadata": {},
     "output_type": "execute_result"
    }
   ],
   "source": [
    "pg.ttest(x,y)"
   ]
  },
  {
   "cell_type": "code",
   "execution_count": 95,
   "id": "f754e908",
   "metadata": {},
   "outputs": [
    {
     "data": {
      "text/plain": [
       "619.7160667720406"
      ]
     },
     "execution_count": 95,
     "metadata": {},
     "output_type": "execute_result"
    }
   ],
   "source": [
    "statistics.mean(x)"
   ]
  },
  {
   "cell_type": "code",
   "execution_count": 96,
   "id": "fdcb6b23",
   "metadata": {},
   "outputs": [
    {
     "data": {
      "text/plain": [
       "626.9954860016393"
      ]
     },
     "execution_count": 96,
     "metadata": {},
     "output_type": "execute_result"
    }
   ],
   "source": [
    "statistics.mean(y)"
   ]
  },
  {
   "cell_type": "code",
   "execution_count": null,
   "id": "4e19335e",
   "metadata": {},
   "outputs": [],
   "source": []
  },
  {
   "cell_type": "code",
   "execution_count": null,
   "id": "a844383c",
   "metadata": {},
   "outputs": [],
   "source": []
  },
  {
   "cell_type": "code",
   "execution_count": 97,
   "id": "13edde39",
   "metadata": {},
   "outputs": [],
   "source": [
    "raw = pd.read_csv(\"mrp_pilot1.csv\")"
   ]
  },
  {
   "cell_type": "code",
   "execution_count": 99,
   "id": "64861b39",
   "metadata": {},
   "outputs": [
    {
     "data": {
      "text/plain": [
       "['browser_codename',\n",
       " 'browser_name',\n",
       " 'browser_version',\n",
       " 'condition',\n",
       " 'congruence',\n",
       " 'correct',\n",
       " 'date_startdate',\n",
       " 'date_startdateUTC',\n",
       " 'date_starttime',\n",
       " 'experiment_debug',\n",
       " 'experiment_parameters',\n",
       " 'experiment_pilot',\n",
       " 'experiment_taskname',\n",
       " 'experiment_taskversion',\n",
       " 'jatosStudyResultId',\n",
       " 'jatosVersion',\n",
       " 'prime',\n",
       " 'queryParams_batchId',\n",
       " 'queryParams_personalMultipleWorkerId',\n",
       " 'response_time',\n",
       " 'screen_availableHeight',\n",
       " 'screen_availableWidth',\n",
       " 'screen_colorDepth',\n",
       " 'screen_height',\n",
       " 'screen_pixelDepth',\n",
       " 'screen_screenX',\n",
       " 'screen_screenY',\n",
       " 'screen_width',\n",
       " 'soa_condition',\n",
       " 'system_os',\n",
       " 'target',\n",
       " 'time_mask1',\n",
       " 'time_mask2',\n",
       " 'time_prime']"
      ]
     },
     "execution_count": 99,
     "metadata": {},
     "output_type": "execute_result"
    }
   ],
   "source": []
  },
  {
   "cell_type": "code",
   "execution_count": 101,
   "id": "0c72a331",
   "metadata": {},
   "outputs": [
    {
     "data": {
      "text/html": [
       "<div>\n",
       "<style scoped>\n",
       "    .dataframe tbody tr th:only-of-type {\n",
       "        vertical-align: middle;\n",
       "    }\n",
       "\n",
       "    .dataframe tbody tr th {\n",
       "        vertical-align: top;\n",
       "    }\n",
       "\n",
       "    .dataframe thead th {\n",
       "        text-align: right;\n",
       "    }\n",
       "</style>\n",
       "<table border=\"1\" class=\"dataframe\">\n",
       "  <thead>\n",
       "    <tr style=\"text-align: right;\">\n",
       "      <th></th>\n",
       "      <th>id</th>\n",
       "      <th>condition</th>\n",
       "      <th>rt</th>\n",
       "      <th>congruence</th>\n",
       "      <th>soa</th>\n",
       "    </tr>\n",
       "  </thead>\n",
       "  <tbody>\n",
       "    <tr>\n",
       "      <th>4</th>\n",
       "      <td>742</td>\n",
       "      <td>Con_Nat</td>\n",
       "      <td>590</td>\n",
       "      <td>congruent</td>\n",
       "      <td>short</td>\n",
       "    </tr>\n",
       "    <tr>\n",
       "      <th>5</th>\n",
       "      <td>742</td>\n",
       "      <td>Inc_Synth_Nat</td>\n",
       "      <td>610</td>\n",
       "      <td>incongruent</td>\n",
       "      <td>short</td>\n",
       "    </tr>\n",
       "    <tr>\n",
       "      <th>6</th>\n",
       "      <td>742</td>\n",
       "      <td>Inc_Synth_Nat</td>\n",
       "      <td>681</td>\n",
       "      <td>incongruent</td>\n",
       "      <td>short</td>\n",
       "    </tr>\n",
       "    <tr>\n",
       "      <th>7</th>\n",
       "      <td>742</td>\n",
       "      <td>Con_Synth</td>\n",
       "      <td>874</td>\n",
       "      <td>congruent</td>\n",
       "      <td>short</td>\n",
       "    </tr>\n",
       "    <tr>\n",
       "      <th>8</th>\n",
       "      <td>742</td>\n",
       "      <td>Con_Synth</td>\n",
       "      <td>629</td>\n",
       "      <td>congruent</td>\n",
       "      <td>short</td>\n",
       "    </tr>\n",
       "  </tbody>\n",
       "</table>\n",
       "</div>"
      ],
      "text/plain": [
       "    id      condition   rt   congruence    soa\n",
       "4  742        Con_Nat  590    congruent  short\n",
       "5  742  Inc_Synth_Nat  610  incongruent  short\n",
       "6  742  Inc_Synth_Nat  681  incongruent  short\n",
       "7  742      Con_Synth  874    congruent  short\n",
       "8  742      Con_Synth  629    congruent  short"
      ]
     },
     "execution_count": 101,
     "metadata": {},
     "output_type": "execute_result"
    }
   ],
   "source": [
    "df = pd.DataFrame({\"id\": raw['jatosStudyResultId'],\n",
    "                   \"condition\": raw['condition'],\n",
    "                  \"rt\": raw['response_time'],\n",
    "                  \"congruence\": raw['congruence'],\n",
    "                  \"soa\": raw['soa_condition']})\n",
    "df = df.loc[df['soa'] != 'practice']\n",
    "\n",
    "df.head()"
   ]
  },
  {
   "cell_type": "code",
   "execution_count": 103,
   "id": "10003cd5",
   "metadata": {},
   "outputs": [
    {
     "data": {
      "text/plain": [
       "<AxesSubplot:xlabel='congruence', ylabel='rt'>"
      ]
     },
     "execution_count": 103,
     "metadata": {},
     "output_type": "execute_result"
    },
    {
     "data": {
      "image/png": "[encoded data removed]",
      "text/plain": [
       "<Figure size 432x288 with 1 Axes>"
      ]
     },
     "metadata": {
      "needs_background": "light"
     },
     "output_type": "display_data"
    }
   ],
   "source": [
    "sns.pointplot(data = df, x = 'congruence', y = 'rt', hue = 'id')"
   ]
  },
  {
   "cell_type": "code",
   "execution_count": null,
   "id": "cc70aebb",
   "metadata": {},
   "outputs": [],
   "source": []
  },
  {
   "cell_type": "code",
   "execution_count": null,
   "id": "fbd08c80",
   "metadata": {},
   "outputs": [],
   "source": []
  },
  {
   "cell_type": "code",
   "execution_count": null,
   "id": "ef24bf6a",
   "metadata": {},
   "outputs": [],
   "source": []
  },
  {
   "cell_type": "code",
   "execution_count": 11,
   "id": "ed9a1718",
   "metadata": {},
   "outputs": [
    {
     "data": {
      "text/plain": [
       "['browser_codename',\n",
       " 'browser_name',\n",
       " 'browser_version',\n",
       " 'condition',\n",
       " 'congruence',\n",
       " 'correct',\n",
       " 'date_startdate',\n",
       " 'date_startdateUTC',\n",
       " 'date_starttime',\n",
       " 'experiment_debug',\n",
       " 'experiment_parameters',\n",
       " 'experiment_pilot',\n",
       " 'experiment_taskname',\n",
       " 'experiment_taskversion',\n",
       " 'jatosStudyResultId',\n",
       " 'jatosVersion',\n",
       " 'prime',\n",
       " 'queryParams_batchId',\n",
       " 'queryParams_personalMultipleWorkerId',\n",
       " 'response_time',\n",
       " 'screen_availableHeight',\n",
       " 'screen_availableWidth',\n",
       " 'screen_colorDepth',\n",
       " 'screen_height',\n",
       " 'screen_pixelDepth',\n",
       " 'screen_screenX',\n",
       " 'screen_screenY',\n",
       " 'screen_width',\n",
       " 'soa_condition',\n",
       " 'system_os',\n",
       " 'target',\n",
       " 'time_mask1',\n",
       " 'time_mask2',\n",
       " 'time_prime']"
      ]
     },
     "execution_count": 11,
     "metadata": {},
     "output_type": "execute_result"
    }
   ],
   "source": [
    "raw = pd.read_csv(\"pilot2.csv\")"
   ]
  },
  {
   "cell_type": "code",
   "execution_count": 4,
   "id": "7195c096",
   "metadata": {},
   "outputs": [
    {
     "data": {
      "text/html": [
       "<div>\n",
       "<style scoped>\n",
       "    .dataframe tbody tr th:only-of-type {\n",
       "        vertical-align: middle;\n",
       "    }\n",
       "\n",
       "    .dataframe tbody tr th {\n",
       "        vertical-align: top;\n",
       "    }\n",
       "\n",
       "    .dataframe thead th {\n",
       "        text-align: right;\n",
       "    }\n",
       "</style>\n",
       "<table border=\"1\" class=\"dataframe\">\n",
       "  <thead>\n",
       "    <tr style=\"text-align: right;\">\n",
       "      <th></th>\n",
       "      <th>id</th>\n",
       "      <th>condition</th>\n",
       "      <th>rt</th>\n",
       "      <th>congruence</th>\n",
       "      <th>soa</th>\n",
       "    </tr>\n",
       "  </thead>\n",
       "  <tbody>\n",
       "    <tr>\n",
       "      <th>4</th>\n",
       "      <td>757</td>\n",
       "      <td>Con_Nat</td>\n",
       "      <td>626</td>\n",
       "      <td>congruent</td>\n",
       "      <td>short</td>\n",
       "    </tr>\n",
       "    <tr>\n",
       "      <th>5</th>\n",
       "      <td>757</td>\n",
       "      <td>Con_Nat</td>\n",
       "      <td>712</td>\n",
       "      <td>congruent</td>\n",
       "      <td>short</td>\n",
       "    </tr>\n",
       "    <tr>\n",
       "      <th>6</th>\n",
       "      <td>757</td>\n",
       "      <td>Inc_Nat_Synth</td>\n",
       "      <td>713</td>\n",
       "      <td>incongruent</td>\n",
       "      <td>short</td>\n",
       "    </tr>\n",
       "    <tr>\n",
       "      <th>7</th>\n",
       "      <td>757</td>\n",
       "      <td>Con_Synth</td>\n",
       "      <td>598</td>\n",
       "      <td>congruent</td>\n",
       "      <td>short</td>\n",
       "    </tr>\n",
       "    <tr>\n",
       "      <th>8</th>\n",
       "      <td>757</td>\n",
       "      <td>Con_Nat</td>\n",
       "      <td>768</td>\n",
       "      <td>congruent</td>\n",
       "      <td>short</td>\n",
       "    </tr>\n",
       "  </tbody>\n",
       "</table>\n",
       "</div>"
      ],
      "text/plain": [
       "    id      condition   rt   congruence    soa\n",
       "4  757        Con_Nat  626    congruent  short\n",
       "5  757        Con_Nat  712    congruent  short\n",
       "6  757  Inc_Nat_Synth  713  incongruent  short\n",
       "7  757      Con_Synth  598    congruent  short\n",
       "8  757        Con_Nat  768    congruent  short"
      ]
     },
     "execution_count": 4,
     "metadata": {},
     "output_type": "execute_result"
    }
   ],
   "source": [
    "df = pd.DataFrame({\"id\": raw['jatosStudyResultId'],\n",
    "                   \"condition\": raw['condition'],\n",
    "                  \"rt\": raw['response_time'],\n",
    "                  \"congruence\": raw['congruence'],\n",
    "                  \"soa\": raw['soa_condition']})\n",
    "df = df.loc[df['soa'] != 'practice']\n",
    "\n",
    "df.head()"
   ]
  },
  {
   "cell_type": "code",
   "execution_count": 13,
   "id": "146d524c",
   "metadata": {},
   "outputs": [
    {
     "data": {
      "text/plain": [
       "<AxesSubplot:xlabel='congruence', ylabel='rt'>"
      ]
     },
     "execution_count": 13,
     "metadata": {},
     "output_type": "execute_result"
    },
    {
     "data": {
      "image/png": "[encoded data removed]",
      "text/plain": [
       "<Figure size 432x288 with 1 Axes>"
      ]
     },
     "metadata": {
      "needs_background": "light"
     },
     "output_type": "display_data"
    }
   ],
   "source": [
    "sns.pointplot(data = df, x = 'congruence', y = 'rt', hue = 'soa')"
   ]
  },
  {
   "cell_type": "code",
   "execution_count": null,
   "id": "a13f57e2",
   "metadata": {},
   "outputs": [],
   "source": []
  },
  {
   "cell_type": "code",
   "execution_count": 24,
   "id": "067719ec",
   "metadata": {},
   "outputs": [],
   "source": [
    "raw_a = pd.read_csv(\"pilotA.csv\")\n",
    "raw_b = pd.read_csv(\"pilotB.csv\")"
   ]
  },
  {
   "cell_type": "code",
   "execution_count": 28,
   "id": "8b38c074",
   "metadata": {},
   "outputs": [
    {
     "data": {
      "text/html": [
       "<div>\n",
       "<style scoped>\n",
       "    .dataframe tbody tr th:only-of-type {\n",
       "        vertical-align: middle;\n",
       "    }\n",
       "\n",
       "    .dataframe tbody tr th {\n",
       "        vertical-align: top;\n",
       "    }\n",
       "\n",
       "    .dataframe thead th {\n",
       "        text-align: right;\n",
       "    }\n",
       "</style>\n",
       "<table border=\"1\" class=\"dataframe\">\n",
       "  <thead>\n",
       "    <tr style=\"text-align: right;\">\n",
       "      <th></th>\n",
       "      <th>id</th>\n",
       "      <th>counter_balance</th>\n",
       "      <th>condition</th>\n",
       "      <th>rt</th>\n",
       "      <th>congruence</th>\n",
       "      <th>soa</th>\n",
       "    </tr>\n",
       "  </thead>\n",
       "  <tbody>\n",
       "    <tr>\n",
       "      <th>4</th>\n",
       "      <td>764</td>\n",
       "      <td>A</td>\n",
       "      <td>Con_Synth</td>\n",
       "      <td>1707</td>\n",
       "      <td>congruent</td>\n",
       "      <td>short</td>\n",
       "    </tr>\n",
       "    <tr>\n",
       "      <th>5</th>\n",
       "      <td>764</td>\n",
       "      <td>A</td>\n",
       "      <td>Con_Synth</td>\n",
       "      <td>2016</td>\n",
       "      <td>congruent</td>\n",
       "      <td>short</td>\n",
       "    </tr>\n",
       "    <tr>\n",
       "      <th>6</th>\n",
       "      <td>764</td>\n",
       "      <td>A</td>\n",
       "      <td>Con_Synth</td>\n",
       "      <td>2016</td>\n",
       "      <td>congruent</td>\n",
       "      <td>short</td>\n",
       "    </tr>\n",
       "    <tr>\n",
       "      <th>7</th>\n",
       "      <td>764</td>\n",
       "      <td>A</td>\n",
       "      <td>Inc_Nat_Nat</td>\n",
       "      <td>2013</td>\n",
       "      <td>incongruent</td>\n",
       "      <td>short</td>\n",
       "    </tr>\n",
       "    <tr>\n",
       "      <th>8</th>\n",
       "      <td>764</td>\n",
       "      <td>A</td>\n",
       "      <td>Inc_Nat_Synth</td>\n",
       "      <td>2013</td>\n",
       "      <td>incongruent</td>\n",
       "      <td>short</td>\n",
       "    </tr>\n",
       "  </tbody>\n",
       "</table>\n",
       "</div>"
      ],
      "text/plain": [
       "    id counter_balance      condition    rt   congruence    soa\n",
       "4  764               A      Con_Synth  1707    congruent  short\n",
       "5  764               A      Con_Synth  2016    congruent  short\n",
       "6  764               A      Con_Synth  2016    congruent  short\n",
       "7  764               A    Inc_Nat_Nat  2013  incongruent  short\n",
       "8  764               A  Inc_Nat_Synth  2013  incongruent  short"
      ]
     },
     "execution_count": 28,
     "metadata": {},
     "output_type": "execute_result"
    }
   ],
   "source": [
    "df_A = pd.DataFrame({\"id\": raw_a['jatosStudyResultId'],\n",
    "                     \"counter_balance\": raw_a['counterbalance'],\n",
    "                     \"condition\": raw_a['condition'],\n",
    "                     \"rt\": raw_a['response_time'],\n",
    "                     \"congruence\": raw_a['congruence'],\n",
    "                     \"soa\": raw_a['soa_condition']})\n",
    "df_A = df_A.loc[df_A['soa'] != 'practice']\n",
    "df_A.head()"
   ]
  },
  {
   "cell_type": "code",
   "execution_count": 29,
   "id": "2712d319",
   "metadata": {},
   "outputs": [
    {
     "data": {
      "text/html": [
       "<div>\n",
       "<style scoped>\n",
       "    .dataframe tbody tr th:only-of-type {\n",
       "        vertical-align: middle;\n",
       "    }\n",
       "\n",
       "    .dataframe tbody tr th {\n",
       "        vertical-align: top;\n",
       "    }\n",
       "\n",
       "    .dataframe thead th {\n",
       "        text-align: right;\n",
       "    }\n",
       "</style>\n",
       "<table border=\"1\" class=\"dataframe\">\n",
       "  <thead>\n",
       "    <tr style=\"text-align: right;\">\n",
       "      <th></th>\n",
       "      <th>id</th>\n",
       "      <th>counter_balance</th>\n",
       "      <th>condition</th>\n",
       "      <th>rt</th>\n",
       "      <th>congruence</th>\n",
       "      <th>soa</th>\n",
       "    </tr>\n",
       "  </thead>\n",
       "  <tbody>\n",
       "    <tr>\n",
       "      <th>4</th>\n",
       "      <td>765</td>\n",
       "      <td>B</td>\n",
       "      <td>Con_Nat</td>\n",
       "      <td>350</td>\n",
       "      <td>congruent</td>\n",
       "      <td>long</td>\n",
       "    </tr>\n",
       "    <tr>\n",
       "      <th>5</th>\n",
       "      <td>765</td>\n",
       "      <td>B</td>\n",
       "      <td>Con_Nat</td>\n",
       "      <td>2016</td>\n",
       "      <td>congruent</td>\n",
       "      <td>long</td>\n",
       "    </tr>\n",
       "    <tr>\n",
       "      <th>6</th>\n",
       "      <td>765</td>\n",
       "      <td>B</td>\n",
       "      <td>Con_Synth</td>\n",
       "      <td>2018</td>\n",
       "      <td>congruent</td>\n",
       "      <td>long</td>\n",
       "    </tr>\n",
       "    <tr>\n",
       "      <th>7</th>\n",
       "      <td>765</td>\n",
       "      <td>B</td>\n",
       "      <td>Inc_Nat_Synth</td>\n",
       "      <td>2017</td>\n",
       "      <td>incongruent</td>\n",
       "      <td>long</td>\n",
       "    </tr>\n",
       "    <tr>\n",
       "      <th>8</th>\n",
       "      <td>765</td>\n",
       "      <td>B</td>\n",
       "      <td>Con_Nat</td>\n",
       "      <td>2017</td>\n",
       "      <td>congruent</td>\n",
       "      <td>long</td>\n",
       "    </tr>\n",
       "  </tbody>\n",
       "</table>\n",
       "</div>"
      ],
      "text/plain": [
       "    id counter_balance      condition    rt   congruence   soa\n",
       "4  765               B        Con_Nat   350    congruent  long\n",
       "5  765               B        Con_Nat  2016    congruent  long\n",
       "6  765               B      Con_Synth  2018    congruent  long\n",
       "7  765               B  Inc_Nat_Synth  2017  incongruent  long\n",
       "8  765               B        Con_Nat  2017    congruent  long"
      ]
     },
     "execution_count": 29,
     "metadata": {},
     "output_type": "execute_result"
    }
   ],
   "source": [
    "df_B = pd.DataFrame({\"id\": raw_b['jatosStudyResultId'],\n",
    "                     \"counter_balance\": raw_b['counterbalance'],\n",
    "                     \"condition\": raw_b['condition'],\n",
    "                     \"rt\": raw_b['response_time'],\n",
    "                     \"congruence\": raw_b['congruence'],\n",
    "                     \"soa\": raw_b['soa_condition']})\n",
    "df_B = df_B.loc[df_B['soa'] != 'practice']\n",
    "df_B.head()"
   ]
  },
  {
   "cell_type": "code",
   "execution_count": 30,
   "id": "bf633f24",
   "metadata": {},
   "outputs": [],
   "source": [
    "df = pd.concat([df_A,df_B])"
   ]
  },
  {
   "cell_type": "code",
   "execution_count": 35,
   "id": "36c51cae",
   "metadata": {},
   "outputs": [
    {
     "data": {
      "text/plain": [
       "<AxesSubplot:xlabel='congruence', ylabel='rt'>"
      ]
     },
     "execution_count": 35,
     "metadata": {},
     "output_type": "execute_result"
    },
    {
     "data": {
      "image/png": "[encoded data removed]",
      "text/plain": [
       "<Figure size 432x288 with 1 Axes>"
      ]
     },
     "metadata": {
      "needs_background": "light"
     },
     "output_type": "display_data"
    }
   ],
   "source": [
    "sns.pointplot(data = df, x = 'congruence', y = 'rt', hue = 'soa')"
   ]
  },
  {
   "cell_type": "code",
   "execution_count": 39,
   "id": "3e482158",
   "metadata": {},
   "outputs": [
    {
     "data": {
      "text/plain": [
       "['practice',\n",
       " 'practice',\n",
       " 'practice',\n",
       " 'practice',\n",
       " 'Con_Synth',\n",
       " 'Con_Synth',\n",
       " 'Con_Synth',\n",
       " 'Inc_Nat_Nat',\n",
       " 'Inc_Nat_Synth',\n",
       " 'Con_Nat',\n",
       " 'Con_Nat',\n",
       " 'Inc_Nat_Nat',\n",
       " 'Inc_Nat_Synth',\n",
       " 'Inc_Synth_Nat',\n",
       " 'Con_Nat',\n",
       " 'Con_Nat',\n",
       " 'Inc_Synth_Nat',\n",
       " 'Con_Synth',\n",
       " 'Inc_Nat_Synth',\n",
       " 'Con_Nat',\n",
       " 'Con_Synth',\n",
       " 'Con_Synth',\n",
       " 'Inc_Nat_Nat',\n",
       " 'Con_Nat',\n",
       " 'Inc_Synth_Synth',\n",
       " 'Inc_Synth_Nat',\n",
       " 'Con_Nat',\n",
       " 'Inc_Nat_Synth',\n",
       " 'Inc_Synth_Nat',\n",
       " 'Con_Synth',\n",
       " 'Inc_Nat_Synth',\n",
       " 'Con_Nat',\n",
       " 'Inc_Nat_Nat',\n",
       " 'Con_Synth',\n",
       " 'Con_Nat',\n",
       " 'Inc_Synth_Nat',\n",
       " 'Con_Synth',\n",
       " 'Inc_Synth_Synth',\n",
       " 'Con_Synth',\n",
       " 'Con_Synth',\n",
       " 'Inc_Nat_Synth',\n",
       " 'Inc_Synth_Nat',\n",
       " 'Inc_Nat_Synth',\n",
       " 'Inc_Synth_Synth',\n",
       " 'Con_Synth',\n",
       " 'Inc_Synth_Nat',\n",
       " 'Nat_Nat_Synth',\n",
       " 'Con_Synth',\n",
       " 'Inc_Nat_Synth',\n",
       " 'Con_Nat',\n",
       " 'Con_Nat',\n",
       " 'Con_Synth',\n",
       " 'Inc_Nat_Nat',\n",
       " 'Inc_Synth_Synth',\n",
       " 'Inc_Synth_Synth',\n",
       " 'Con_Nat',\n",
       " 'Inc_Synth_Synth',\n",
       " 'Con_Synth',\n",
       " 'Con_Nat',\n",
       " 'Con_Nat',\n",
       " 'Inc_Nat_Nat',\n",
       " 'Con_Nat',\n",
       " 'Inc_Synth_Nat',\n",
       " 'Inc_Synth_Synth',\n",
       " 'Con_Synth',\n",
       " 'Inc_Nat_Nat',\n",
       " 'Inc_Synth_Nat',\n",
       " 'Inc_Synth_Synth',\n",
       " 'Con_Synth',\n",
       " 'Con_Nat',\n",
       " 'Inc_Nat_Synth',\n",
       " 'Inc_Nat_Nat',\n",
       " 'Con_Synth',\n",
       " 'Con_Synth',\n",
       " 'Con_Nat',\n",
       " 'Con_Synth',\n",
       " 'Con_Nat',\n",
       " 'Inc_Nat_Synth',\n",
       " 'Con_Synth',\n",
       " 'Inc_Synth_Nat',\n",
       " 'Con_Nat',\n",
       " 'Con_Nat',\n",
       " 'Inc_Nat_Synth',\n",
       " 'Inc_Nat_Nat',\n",
       " 'Con_Synth',\n",
       " 'Con_Synth',\n",
       " 'Con_Nat',\n",
       " 'Inc_Synth_Synth',\n",
       " 'Con_Synth',\n",
       " 'Con_Synth',\n",
       " 'Con_Synth',\n",
       " 'Inc_Nat_Synth',\n",
       " 'Con_Nat',\n",
       " 'Con_Synth',\n",
       " 'Con_Nat',\n",
       " 'Inc_Synth_Synth',\n",
       " 'Con_Nat',\n",
       " 'Inc_Synth_Nat',\n",
       " 'Inc_Nat_Synth',\n",
       " 'Inc_Nat_Nat',\n",
       " 'Con_Nat',\n",
       " 'Inc_Nat_Nat',\n",
       " 'Con_Nat',\n",
       " 'Inc_Nat_Synth',\n",
       " 'Inc_Synth_Nat',\n",
       " 'Inc_Synth_Synth',\n",
       " 'Inc_Synth_Synth',\n",
       " 'Inc_Synth_Synth',\n",
       " 'Inc_Nat_Nat',\n",
       " 'Inc_Synth_Synth',\n",
       " 'Inc_Nat_Nat',\n",
       " 'Con_Nat',\n",
       " 'Inc_Synth_Nat',\n",
       " 'Con_Nat',\n",
       " 'Con_Synth',\n",
       " 'Inc_Nat_Synth',\n",
       " 'Con_Nat',\n",
       " 'Inc_Synth_Synth',\n",
       " 'Inc_Synth_Nat',\n",
       " 'Con_Synth',\n",
       " 'Inc_Nat_Nat',\n",
       " 'Con_Synth',\n",
       " 'Con_Nat',\n",
       " 'Inc_Synth_Nat']"
      ]
     },
     "execution_count": 39,
     "metadata": {},
     "output_type": "execute_result"
    }
   ],
   "source": []
  },
  {
   "cell_type": "code",
   "execution_count": null,
   "id": "f931a991",
   "metadata": {},
   "outputs": [],
   "source": []
  }
 ],
 "metadata": {
  "kernelspec": {
   "display_name": "Python 3",
   "language": "python",
   "name": "python3"
  },
  "language_info": {
   "codemirror_mode": {
    "name": "ipython",
    "version": 3
   },
   "file_extension": ".py",
   "mimetype": "text/x-python",
   "name": "python",
   "nbconvert_exporter": "python",
   "pygments_lexer": "ipython3",
   "version": "3.9.12"
  }
 },
 "nbformat": 4,
 "nbformat_minor": 5
}
