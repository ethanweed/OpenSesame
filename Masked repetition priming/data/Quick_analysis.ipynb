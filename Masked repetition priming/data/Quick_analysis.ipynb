{
 "cells": [
  {
   "cell_type": "markdown",
   "id": "bfeedd4a",
   "metadata": {},
   "source": [
    "# Lab Report 2\n",
    "\n",
    "**Research question 1**: Can we observe a masked priming effect (in a non-native language)?\n",
    "\n",
    "**Research question 2**: If there is a masked priming effect, does it increase, decrease, or stay the same after a short period of time (80 ms)?\n",
    "\n",
    "**Research question 3**: If there is a masked priming effect, is there also a semantic priming effect (in the incongruent pairs)?\n",
    "\n",
    "Other things to check:\n",
    "\n",
    "- did participants improve over time (both within blocks and over all trials)?\n",
    "- did it make a difference whether participants were in block A or block B (short SOA then long vs. long SOA then short)?\n",
    "- ???\n",
    "\n",
    "Two main communications: short and long Stimulus Onset Asynchrony (SOA)\n",
    "\n",
    "- Fixation: ###### 539 ms\n",
    "- Mask: ##### 32 ms\n",
    "- Prime: 32 ms\n",
    "- Mask: ##### 32 ms\n",
    "- (short SOA condition): 0 ms break. Proceed directly to target\n",
    "- (long condition): Blank screen: 80 ms\n",
    "- Target: timeout after 2000 ms\n",
    "\n",
    "30 prime/target pairs in the short condition and 30 pairs in the long condition\n",
    "\n",
    "Approx. half the participants saw the short SOA first (group A), and half saw the long SOA first (group B).\n",
    "\n",
    "Congruent and Incongruent stimuli were fully randomised within each SOA block\n",
    "\n",
    "Stimuli were taken from: \n",
    "\n",
    "Peel, H. J., Royals, K. A., & Chouinard, P. A. (2022). The effects of word identity, case, and SOA on word priming in a subliminal context. _Journal of Psycholinguistic Research, 51_(1), 1-15.\n"
   ]
  },
  {
   "cell_type": "code",
   "execution_count": 14,
   "id": "127ef31e",
   "metadata": {},
   "outputs": [],
   "source": [
    "# setup\n",
    "\n",
    "import pandas as pd\n",
    "import pingouin as pg\n",
    "import seaborn as sns\n",
    "\n",
    "import warnings\n",
    "warnings.filterwarnings('ignore')"
   ]
  },
  {
   "cell_type": "markdown",
   "id": "6b85cdb8",
   "metadata": {},
   "source": [
    "Combine the data from group A and group B"
   ]
  },
  {
   "cell_type": "code",
   "execution_count": 15,
   "id": "95bb5e08",
   "metadata": {},
   "outputs": [],
   "source": [
    "raw_a = pd.read_csv(\"MR_A.csv\")\n",
    "raw_b = pd.read_csv(\"MR_B.csv\")\n",
    "\n",
    "df_A = pd.DataFrame({\"id\": raw_a['jatosStudyResultId'],\n",
    "                     \"counter_balance\": raw_a['counterbalance'],\n",
    "                     \"condition\": raw_a['condition'],\n",
    "                     \"rt\": raw_a['response_time'],\n",
    "                     \"congruence\": raw_a['congruence'],\n",
    "                     \"soa\": raw_a['soa_condition']})\n",
    "df_A = df_A.loc[df_A['soa'] != 'practice']\n",
    "df_A.head()\n",
    "\n",
    "\n",
    "df_B = pd.DataFrame({\"id\": raw_b['jatosStudyResultId'],\n",
    "                     \"counter_balance\": raw_b['counterbalance'],\n",
    "                     \"condition\": raw_b['condition'],\n",
    "                     \"rt\": raw_b['response_time'],\n",
    "                     \"congruence\": raw_b['congruence'],\n",
    "                     \"soa\": raw_b['soa_condition']})\n",
    "df_B = df_B.loc[df_B['soa'] != 'practice']\n",
    "df_B.head()\n",
    "\n",
    "df = pd.concat([df_A,df_B])"
   ]
  },
  {
   "cell_type": "markdown",
   "id": "09d3c821",
   "metadata": {},
   "source": [
    "Plot the data"
   ]
  },
  {
   "cell_type": "code",
   "execution_count": 16,
   "id": "dc3b5411",
   "metadata": {},
   "outputs": [
    {
     "data": {
      "image/png": "[encoded data removed]",
      "text/plain": [
       "<Figure size 432x288 with 1 Axes>"
      ]
     },
     "metadata": {
      "needs_background": "light"
     },
     "output_type": "display_data"
    }
   ],
   "source": [
    "sns.pointplot(data = df, x = 'soa', y = 'rt', hue = 'congruence')\n",
    "sns.despine()"
   ]
  },
  {
   "cell_type": "code",
   "execution_count": 12,
   "id": "a6d583ff",
   "metadata": {},
   "outputs": [
    {
     "data": {
      "text/plain": [
       "['id', 'counter_balance', 'condition', 'rt', 'congruence', 'soa']"
      ]
     },
     "execution_count": 12,
     "metadata": {},
     "output_type": "execute_result"
    }
   ],
   "source": [
    "list(df)"
   ]
  },
  {
   "cell_type": "code",
   "execution_count": 13,
   "id": "e66fa0e6",
   "metadata": {},
   "outputs": [],
   "source": [
    "#pd.set_option(\"display.max_rows\", None, \"display.max_columns\", None)\n",
    "#print(df)"
   ]
  },
  {
   "cell_type": "code",
   "execution_count": 14,
   "id": "1a859a25",
   "metadata": {},
   "outputs": [
    {
     "data": {
      "text/plain": [
       "23"
      ]
     },
     "execution_count": 14,
     "metadata": {},
     "output_type": "execute_result"
    }
   ],
   "source": [
    "len(df['id'].unique())"
   ]
  },
  {
   "cell_type": "code",
   "execution_count": 15,
   "id": "f3865502",
   "metadata": {},
   "outputs": [
    {
     "data": {
      "text/html": [
       "<div>\n",
       "<style scoped>\n",
       "    .dataframe tbody tr th:only-of-type {\n",
       "        vertical-align: middle;\n",
       "    }\n",
       "\n",
       "    .dataframe tbody tr th {\n",
       "        vertical-align: top;\n",
       "    }\n",
       "\n",
       "    .dataframe thead th {\n",
       "        text-align: right;\n",
       "    }\n",
       "</style>\n",
       "<table border=\"1\" class=\"dataframe\">\n",
       "  <thead>\n",
       "    <tr style=\"text-align: right;\">\n",
       "      <th></th>\n",
       "      <th>Source</th>\n",
       "      <th>SS</th>\n",
       "      <th>ddof1</th>\n",
       "      <th>ddof2</th>\n",
       "      <th>MS</th>\n",
       "      <th>F</th>\n",
       "      <th>p-unc</th>\n",
       "      <th>p-GG-corr</th>\n",
       "      <th>ng2</th>\n",
       "      <th>eps</th>\n",
       "    </tr>\n",
       "  </thead>\n",
       "  <tbody>\n",
       "    <tr>\n",
       "      <th>0</th>\n",
       "      <td>congruence</td>\n",
       "      <td>27378.050048</td>\n",
       "      <td>1</td>\n",
       "      <td>22</td>\n",
       "      <td>27378.050048</td>\n",
       "      <td>15.337799</td>\n",
       "      <td>0.000739</td>\n",
       "      <td>0.000739</td>\n",
       "      <td>0.014364</td>\n",
       "      <td>1.0</td>\n",
       "    </tr>\n",
       "    <tr>\n",
       "      <th>1</th>\n",
       "      <td>soa</td>\n",
       "      <td>20738.017440</td>\n",
       "      <td>1</td>\n",
       "      <td>22</td>\n",
       "      <td>20738.017440</td>\n",
       "      <td>5.084641</td>\n",
       "      <td>0.034427</td>\n",
       "      <td>0.034427</td>\n",
       "      <td>0.010918</td>\n",
       "      <td>1.0</td>\n",
       "    </tr>\n",
       "    <tr>\n",
       "      <th>2</th>\n",
       "      <td>congruence * soa</td>\n",
       "      <td>26361.816425</td>\n",
       "      <td>1</td>\n",
       "      <td>22</td>\n",
       "      <td>26361.816425</td>\n",
       "      <td>12.020311</td>\n",
       "      <td>0.002191</td>\n",
       "      <td>0.002191</td>\n",
       "      <td>0.013838</td>\n",
       "      <td>1.0</td>\n",
       "    </tr>\n",
       "  </tbody>\n",
       "</table>\n",
       "</div>"
      ],
      "text/plain": [
       "             Source            SS  ddof1  ddof2            MS          F  \\\n",
       "0        congruence  27378.050048      1     22  27378.050048  15.337799   \n",
       "1               soa  20738.017440      1     22  20738.017440   5.084641   \n",
       "2  congruence * soa  26361.816425      1     22  26361.816425  12.020311   \n",
       "\n",
       "      p-unc  p-GG-corr       ng2  eps  \n",
       "0  0.000739   0.000739  0.014364  1.0  \n",
       "1  0.034427   0.034427  0.010918  1.0  \n",
       "2  0.002191   0.002191  0.013838  1.0  "
      ]
     },
     "execution_count": 15,
     "metadata": {},
     "output_type": "execute_result"
    }
   ],
   "source": [
    "aov = pg.rm_anova(dv = 'rt', within =['congruence', 'soa'],\n",
    "                  subject= 'id', data = df)\n",
    "aov"
   ]
  },
  {
   "cell_type": "code",
   "execution_count": 10,
   "id": "1ce1ee82",
   "metadata": {},
   "outputs": [],
   "source": [
    "df.to_csv('Masked_repetition_priming_data-2022', index = False)"
   ]
  },
  {
   "cell_type": "code",
   "execution_count": 9,
   "id": "35ef12e4",
   "metadata": {},
   "outputs": [
    {
     "data": {
      "text/plain": [
       "['id', 'counter_balance', 'condition', 'rt', 'congruence', 'soa']"
      ]
     },
     "execution_count": 9,
     "metadata": {},
     "output_type": "execute_result"
    }
   ],
   "source": [
    "list(df)"
   ]
  },
  {
   "cell_type": "code",
   "execution_count": null,
   "id": "d339e20f",
   "metadata": {},
   "outputs": [],
   "source": []
  }
 ],
 "metadata": {
  "kernelspec": {
   "display_name": "Python 3",
   "language": "python",
   "name": "python3"
  },
  "language_info": {
   "codemirror_mode": {
    "name": "ipython",
    "version": 3
   },
   "file_extension": ".py",
   "mimetype": "text/x-python",
   "name": "python",
   "nbconvert_exporter": "python",
   "pygments_lexer": "ipython3",
   "version": "3.9.12"
  }
 },
 "nbformat": 4,
 "nbformat_minor": 5
}
