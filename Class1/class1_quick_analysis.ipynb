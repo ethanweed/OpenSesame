{
 "cells": [
  {
   "cell_type": "code",
   "execution_count": 6,
   "id": "d0ec12f7",
   "metadata": {},
   "outputs": [],
   "source": [
    "import pandas as pd\n",
    "import seaborn as sns"
   ]
  },
  {
   "cell_type": "code",
   "execution_count": 2,
   "id": "1b2669ba",
   "metadata": {},
   "outputs": [],
   "source": [
    "df = pd.read_csv('https://raw.githubusercontent.com/ethanweed/OpenSesame/master/Class1/class_1_pilot2.csv')"
   ]
  },
  {
   "cell_type": "code",
   "execution_count": 9,
   "id": "73dea95f",
   "metadata": {},
   "outputs": [
    {
     "data": {
      "text/html": [
       "<div>\n",
       "<style scoped>\n",
       "    .dataframe tbody tr th:only-of-type {\n",
       "        vertical-align: middle;\n",
       "    }\n",
       "\n",
       "    .dataframe tbody tr th {\n",
       "        vertical-align: top;\n",
       "    }\n",
       "\n",
       "    .dataframe thead th {\n",
       "        text-align: right;\n",
       "    }\n",
       "</style>\n",
       "<table border=\"1\" class=\"dataframe\">\n",
       "  <thead>\n",
       "    <tr style=\"text-align: right;\">\n",
       "      <th></th>\n",
       "      <th>Accuracy</th>\n",
       "      <th>ID</th>\n",
       "      <th>RT</th>\n",
       "      <th>Prime</th>\n",
       "      <th>Target</th>\n",
       "      <th>WordLength</th>\n",
       "      <th>Condition</th>\n",
       "    </tr>\n",
       "  </thead>\n",
       "  <tbody>\n",
       "    <tr>\n",
       "      <th>0</th>\n",
       "      <td>1</td>\n",
       "      <td>887</td>\n",
       "      <td>1521</td>\n",
       "      <td>iotrapc</td>\n",
       "      <td>apricot</td>\n",
       "      <td>7</td>\n",
       "      <td>fully-scrambled</td>\n",
       "    </tr>\n",
       "    <tr>\n",
       "      <th>1</th>\n",
       "      <td>1</td>\n",
       "      <td>887</td>\n",
       "      <td>709</td>\n",
       "      <td>fgliamno</td>\n",
       "      <td>flamingo</td>\n",
       "      <td>8</td>\n",
       "      <td>semi-scrambled</td>\n",
       "    </tr>\n",
       "    <tr>\n",
       "      <th>2</th>\n",
       "      <td>1</td>\n",
       "      <td>887</td>\n",
       "      <td>896</td>\n",
       "      <td>briatb</td>\n",
       "      <td>rabbit</td>\n",
       "      <td>6</td>\n",
       "      <td>fully-scrambled</td>\n",
       "    </tr>\n",
       "    <tr>\n",
       "      <th>3</th>\n",
       "      <td>0</td>\n",
       "      <td>887</td>\n",
       "      <td>509</td>\n",
       "      <td>lamb</td>\n",
       "      <td>lamb</td>\n",
       "      <td>4</td>\n",
       "      <td>identical</td>\n",
       "    </tr>\n",
       "    <tr>\n",
       "      <th>4</th>\n",
       "      <td>1</td>\n",
       "      <td>887</td>\n",
       "      <td>1200</td>\n",
       "      <td>kaloa</td>\n",
       "      <td>koala</td>\n",
       "      <td>5</td>\n",
       "      <td>semi-scrambled</td>\n",
       "    </tr>\n",
       "    <tr>\n",
       "      <th>...</th>\n",
       "      <td>...</td>\n",
       "      <td>...</td>\n",
       "      <td>...</td>\n",
       "      <td>...</td>\n",
       "      <td>...</td>\n",
       "      <td>...</td>\n",
       "      <td>...</td>\n",
       "    </tr>\n",
       "    <tr>\n",
       "      <th>979</th>\n",
       "      <td>1</td>\n",
       "      <td>873</td>\n",
       "      <td>695</td>\n",
       "      <td>rabbit</td>\n",
       "      <td>rabbit</td>\n",
       "      <td>6</td>\n",
       "      <td>identical</td>\n",
       "    </tr>\n",
       "    <tr>\n",
       "      <th>980</th>\n",
       "      <td>1</td>\n",
       "      <td>873</td>\n",
       "      <td>584</td>\n",
       "      <td>kpumpni</td>\n",
       "      <td>pumpkin</td>\n",
       "      <td>7</td>\n",
       "      <td>fully-scrambled</td>\n",
       "    </tr>\n",
       "    <tr>\n",
       "      <th>981</th>\n",
       "      <td>1</td>\n",
       "      <td>873</td>\n",
       "      <td>661</td>\n",
       "      <td>mpul</td>\n",
       "      <td>plum</td>\n",
       "      <td>4</td>\n",
       "      <td>fully-scrambled</td>\n",
       "    </tr>\n",
       "    <tr>\n",
       "      <th>982</th>\n",
       "      <td>1</td>\n",
       "      <td>873</td>\n",
       "      <td>979</td>\n",
       "      <td>pneigun</td>\n",
       "      <td>penguin</td>\n",
       "      <td>7</td>\n",
       "      <td>semi-scrambled</td>\n",
       "    </tr>\n",
       "    <tr>\n",
       "      <th>983</th>\n",
       "      <td>1</td>\n",
       "      <td>873</td>\n",
       "      <td>988</td>\n",
       "      <td>pneigun</td>\n",
       "      <td>penguin</td>\n",
       "      <td>7</td>\n",
       "      <td>semi-scrambled</td>\n",
       "    </tr>\n",
       "  </tbody>\n",
       "</table>\n",
       "<p>984 rows × 7 columns</p>\n",
       "</div>"
      ],
      "text/plain": [
       "     Accuracy   ID    RT     Prime    Target  WordLength        Condition\n",
       "0           1  887  1521   iotrapc   apricot           7  fully-scrambled\n",
       "1           1  887   709  fgliamno  flamingo           8   semi-scrambled\n",
       "2           1  887   896    briatb    rabbit           6  fully-scrambled\n",
       "3           0  887   509      lamb      lamb           4        identical\n",
       "4           1  887  1200     kaloa     koala           5   semi-scrambled\n",
       "..        ...  ...   ...       ...       ...         ...              ...\n",
       "979         1  873   695    rabbit    rabbit           6        identical\n",
       "980         1  873   584   kpumpni   pumpkin           7  fully-scrambled\n",
       "981         1  873   661      mpul      plum           4  fully-scrambled\n",
       "982         1  873   979   pneigun   penguin           7   semi-scrambled\n",
       "983         1  873   988   pneigun   penguin           7   semi-scrambled\n",
       "\n",
       "[984 rows x 7 columns]"
      ]
     },
     "execution_count": 9,
     "metadata": {},
     "output_type": "execute_result"
    }
   ],
   "source": [
    "data = pd.DataFrame({'Accuracy': df['correct'],\n",
    "                    'ID': df['jatosStudyResultId'],\n",
    "                    'RT': df['response_time'],\n",
    "                     'Prime': df['prime'],\n",
    "                     'Target': df['target'],\n",
    "                     'WordLength': df['num_letters'],\n",
    "                     'Condition': df['condition']\n",
    "                    })\n",
    "data"
   ]
  },
  {
   "cell_type": "code",
   "execution_count": 10,
   "id": "d61dc209",
   "metadata": {},
   "outputs": [
    {
     "data": {
      "text/plain": [
       "<AxesSubplot:xlabel='Condition', ylabel='RT'>"
      ]
     },
     "execution_count": 10,
     "metadata": {},
     "output_type": "execute_result"
    },
    {
     "data": {
      "image/png": "[encoded data removed]",
      "text/plain": [
       "<Figure size 432x288 with 1 Axes>"
      ]
     },
     "metadata": {
      "needs_background": "light"
     },
     "output_type": "display_data"
    }
   ],
   "source": [
    "sns.pointplot(data = data, x = 'Condition', y = 'RT')"
   ]
  },
  {
   "cell_type": "code",
   "execution_count": 13,
   "id": "ae73deb4",
   "metadata": {},
   "outputs": [
    {
     "data": {
      "text/plain": [
       "<AxesSubplot:xlabel='Condition', ylabel='RT'>"
      ]
     },
     "execution_count": 13,
     "metadata": {},
     "output_type": "execute_result"
    },
    {
     "data": {
      "image/png": "[encoded data removed]",
      "text/plain": [
       "<Figure size 432x288 with 1 Axes>"
      ]
     },
     "metadata": {
      "needs_background": "light"
     },
     "output_type": "display_data"
    }
   ],
   "source": [
    "sns.boxplot(data = data, x = 'Condition', y = 'RT')"
   ]
  },
  {
   "cell_type": "code",
   "execution_count": 17,
   "id": "a780584d",
   "metadata": {},
   "outputs": [
    {
     "data": {
      "text/plain": [
       "<AxesSubplot:xlabel='Condition', ylabel='RT'>"
      ]
     },
     "execution_count": 17,
     "metadata": {},
     "output_type": "execute_result"
    },
    {
     "data": {
      "image/png": "[encoded data removed]",
      "text/plain": [
       "<Figure size 432x288 with 1 Axes>"
      ]
     },
     "metadata": {
      "needs_background": "light"
     },
     "output_type": "display_data"
    }
   ],
   "source": [
    "sns.pointplot(data = data.loc[data['RT'] < 2000], x = 'Condition', y = 'RT')"
   ]
  },
  {
   "cell_type": "code",
   "execution_count": 18,
   "id": "df2e58f1",
   "metadata": {},
   "outputs": [
    {
     "data": {
      "text/plain": [
       "{873, 874, 875, 876, 877, 878, 879, 881, 882, 883, 885, 887}"
      ]
     },
     "execution_count": 18,
     "metadata": {},
     "output_type": "execute_result"
    }
   ],
   "source": [
    "set(data['ID'])"
   ]
  },
  {
   "cell_type": "code",
   "execution_count": null,
   "id": "3e0444ff",
   "metadata": {},
   "outputs": [],
   "source": []
  }
 ],
 "metadata": {
  "kernelspec": {
   "display_name": "Python 3",
   "language": "python",
   "name": "python3"
  },
  "language_info": {
   "codemirror_mode": {
    "name": "ipython",
    "version": 3
   },
   "file_extension": ".py",
   "mimetype": "text/x-python",
   "name": "python",
   "nbconvert_exporter": "python",
   "pygments_lexer": "ipython3",
   "version": "3.9.12"
  }
 },
 "nbformat": 4,
 "nbformat_minor": 5
}
